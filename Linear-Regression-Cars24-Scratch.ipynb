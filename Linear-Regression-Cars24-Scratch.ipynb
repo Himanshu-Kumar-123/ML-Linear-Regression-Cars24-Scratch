{
 "cells": [
  {
   "cell_type": "code",
   "execution_count": 1,
   "id": "74a8921f-d29f-473a-8c16-6df7b836742f",
   "metadata": {},
   "outputs": [],
   "source": [
    "import numpy as np\n",
    "import pandas as pd\n",
    "import matplotlib.pyplot as plt"
   ]
  },
  {
   "cell_type": "code",
   "execution_count": 2,
   "id": "e559eb4c-ecf9-46c5-a0a6-1f87e14b13d4",
   "metadata": {},
   "outputs": [],
   "source": [
    "import warnings\n",
    "warnings.filterwarnings(\"ignore\")"
   ]
  },
  {
   "cell_type": "code",
   "execution_count": 3,
   "id": "a9feed05-899d-49a9-9b33-9a0f674ecb19",
   "metadata": {},
   "outputs": [],
   "source": [
    "df = pd.read_csv(\"cars24-car-price-cleaned.csv\")"
   ]
  },
  {
   "cell_type": "code",
   "execution_count": 4,
   "id": "a7bbd071-d61d-4743-89b5-633d24e060db",
   "metadata": {},
   "outputs": [
    {
     "data": {
      "text/html": [
       "<div>\n",
       "<style scoped>\n",
       "    .dataframe tbody tr th:only-of-type {\n",
       "        vertical-align: middle;\n",
       "    }\n",
       "\n",
       "    .dataframe tbody tr th {\n",
       "        vertical-align: top;\n",
       "    }\n",
       "\n",
       "    .dataframe thead th {\n",
       "        text-align: right;\n",
       "    }\n",
       "</style>\n",
       "<table border=\"1\" class=\"dataframe\">\n",
       "  <thead>\n",
       "    <tr style=\"text-align: right;\">\n",
       "      <th></th>\n",
       "      <th>selling_price</th>\n",
       "      <th>year</th>\n",
       "      <th>km_driven</th>\n",
       "      <th>mileage</th>\n",
       "      <th>engine</th>\n",
       "      <th>max_power</th>\n",
       "      <th>age</th>\n",
       "      <th>make</th>\n",
       "      <th>model</th>\n",
       "      <th>Individual</th>\n",
       "      <th>Trustmark Dealer</th>\n",
       "      <th>Diesel</th>\n",
       "      <th>Electric</th>\n",
       "      <th>LPG</th>\n",
       "      <th>Petrol</th>\n",
       "      <th>Manual</th>\n",
       "      <th>5</th>\n",
       "      <th>&gt;5</th>\n",
       "    </tr>\n",
       "  </thead>\n",
       "  <tbody>\n",
       "    <tr>\n",
       "      <th>0</th>\n",
       "      <td>1.20</td>\n",
       "      <td>2012.0</td>\n",
       "      <td>120000</td>\n",
       "      <td>19.70</td>\n",
       "      <td>796.0</td>\n",
       "      <td>46.30</td>\n",
       "      <td>11.0</td>\n",
       "      <td>MARUTI</td>\n",
       "      <td>ALTO STD</td>\n",
       "      <td>1</td>\n",
       "      <td>0</td>\n",
       "      <td>0</td>\n",
       "      <td>0</td>\n",
       "      <td>0</td>\n",
       "      <td>1</td>\n",
       "      <td>1</td>\n",
       "      <td>1</td>\n",
       "      <td>0</td>\n",
       "    </tr>\n",
       "    <tr>\n",
       "      <th>1</th>\n",
       "      <td>5.50</td>\n",
       "      <td>2016.0</td>\n",
       "      <td>20000</td>\n",
       "      <td>18.90</td>\n",
       "      <td>1197.0</td>\n",
       "      <td>82.00</td>\n",
       "      <td>7.0</td>\n",
       "      <td>HYUNDAI</td>\n",
       "      <td>GRAND I10 ASTA</td>\n",
       "      <td>1</td>\n",
       "      <td>0</td>\n",
       "      <td>0</td>\n",
       "      <td>0</td>\n",
       "      <td>0</td>\n",
       "      <td>1</td>\n",
       "      <td>1</td>\n",
       "      <td>1</td>\n",
       "      <td>0</td>\n",
       "    </tr>\n",
       "    <tr>\n",
       "      <th>2</th>\n",
       "      <td>2.15</td>\n",
       "      <td>2010.0</td>\n",
       "      <td>60000</td>\n",
       "      <td>17.00</td>\n",
       "      <td>1197.0</td>\n",
       "      <td>80.00</td>\n",
       "      <td>13.0</td>\n",
       "      <td>HYUNDAI</td>\n",
       "      <td>I20 ASTA</td>\n",
       "      <td>1</td>\n",
       "      <td>0</td>\n",
       "      <td>0</td>\n",
       "      <td>0</td>\n",
       "      <td>0</td>\n",
       "      <td>1</td>\n",
       "      <td>1</td>\n",
       "      <td>1</td>\n",
       "      <td>0</td>\n",
       "    </tr>\n",
       "    <tr>\n",
       "      <th>3</th>\n",
       "      <td>2.26</td>\n",
       "      <td>2012.0</td>\n",
       "      <td>37000</td>\n",
       "      <td>20.92</td>\n",
       "      <td>998.0</td>\n",
       "      <td>67.10</td>\n",
       "      <td>11.0</td>\n",
       "      <td>MARUTI</td>\n",
       "      <td>ALTO K10 2010-2014 VXI</td>\n",
       "      <td>1</td>\n",
       "      <td>0</td>\n",
       "      <td>0</td>\n",
       "      <td>0</td>\n",
       "      <td>0</td>\n",
       "      <td>1</td>\n",
       "      <td>1</td>\n",
       "      <td>1</td>\n",
       "      <td>0</td>\n",
       "    </tr>\n",
       "    <tr>\n",
       "      <th>4</th>\n",
       "      <td>5.70</td>\n",
       "      <td>2015.0</td>\n",
       "      <td>30000</td>\n",
       "      <td>22.77</td>\n",
       "      <td>1498.0</td>\n",
       "      <td>98.59</td>\n",
       "      <td>8.0</td>\n",
       "      <td>FORD</td>\n",
       "      <td>ECOSPORT 2015-2021 1.5 TDCI TITANIUM BSIV</td>\n",
       "      <td>0</td>\n",
       "      <td>0</td>\n",
       "      <td>1</td>\n",
       "      <td>0</td>\n",
       "      <td>0</td>\n",
       "      <td>0</td>\n",
       "      <td>1</td>\n",
       "      <td>1</td>\n",
       "      <td>0</td>\n",
       "    </tr>\n",
       "  </tbody>\n",
       "</table>\n",
       "</div>"
      ],
      "text/plain": [
       "   selling_price    year  km_driven  mileage  engine  max_power   age  \\\n",
       "0           1.20  2012.0     120000    19.70   796.0      46.30  11.0   \n",
       "1           5.50  2016.0      20000    18.90  1197.0      82.00   7.0   \n",
       "2           2.15  2010.0      60000    17.00  1197.0      80.00  13.0   \n",
       "3           2.26  2012.0      37000    20.92   998.0      67.10  11.0   \n",
       "4           5.70  2015.0      30000    22.77  1498.0      98.59   8.0   \n",
       "\n",
       "      make                                      model  Individual  \\\n",
       "0   MARUTI                                   ALTO STD           1   \n",
       "1  HYUNDAI                             GRAND I10 ASTA           1   \n",
       "2  HYUNDAI                                   I20 ASTA           1   \n",
       "3   MARUTI                     ALTO K10 2010-2014 VXI           1   \n",
       "4     FORD  ECOSPORT 2015-2021 1.5 TDCI TITANIUM BSIV           0   \n",
       "\n",
       "   Trustmark Dealer  Diesel  Electric  LPG  Petrol  Manual  5  >5  \n",
       "0                 0       0         0    0       1       1  1   0  \n",
       "1                 0       0         0    0       1       1  1   0  \n",
       "2                 0       0         0    0       1       1  1   0  \n",
       "3                 0       0         0    0       1       1  1   0  \n",
       "4                 0       1         0    0       0       1  1   0  "
      ]
     },
     "execution_count": 4,
     "metadata": {},
     "output_type": "execute_result"
    }
   ],
   "source": [
    "df.head()"
   ]
  },
  {
   "cell_type": "code",
   "execution_count": 5,
   "id": "23bc84ef-f0e6-4b5f-8f57-84f2f21a87be",
   "metadata": {},
   "outputs": [
    {
     "data": {
      "text/plain": [
       "(19820, 18)"
      ]
     },
     "execution_count": 5,
     "metadata": {},
     "output_type": "execute_result"
    }
   ],
   "source": [
    "df.shape"
   ]
  },
  {
   "cell_type": "code",
   "execution_count": 6,
   "id": "af25ea18-db4e-4646-bda7-372e3eae3dd5",
   "metadata": {},
   "outputs": [
    {
     "data": {
      "text/plain": [
       "(41, 3233)"
      ]
     },
     "execution_count": 6,
     "metadata": {},
     "output_type": "execute_result"
    }
   ],
   "source": [
    "df['make'].nunique(), df['model'].nunique()"
   ]
  },
  {
   "cell_type": "code",
   "execution_count": 7,
   "id": "32ff5eea-1a8a-4738-860a-e3291123b96f",
   "metadata": {},
   "outputs": [],
   "source": [
    "df['make'] = df.groupby('make')['selling_price'].transform('mean')\n",
    "df['model'] = df.groupby('model')['selling_price'].transform('mean')"
   ]
  },
  {
   "cell_type": "code",
   "execution_count": 8,
   "id": "93cb9b2c-27e0-4ecc-9349-6ecd20f9e849",
   "metadata": {},
   "outputs": [
    {
     "data": {
      "text/html": [
       "<div>\n",
       "<style scoped>\n",
       "    .dataframe tbody tr th:only-of-type {\n",
       "        vertical-align: middle;\n",
       "    }\n",
       "\n",
       "    .dataframe tbody tr th {\n",
       "        vertical-align: top;\n",
       "    }\n",
       "\n",
       "    .dataframe thead th {\n",
       "        text-align: right;\n",
       "    }\n",
       "</style>\n",
       "<table border=\"1\" class=\"dataframe\">\n",
       "  <thead>\n",
       "    <tr style=\"text-align: right;\">\n",
       "      <th></th>\n",
       "      <th>selling_price</th>\n",
       "      <th>year</th>\n",
       "      <th>km_driven</th>\n",
       "      <th>mileage</th>\n",
       "      <th>engine</th>\n",
       "      <th>max_power</th>\n",
       "      <th>age</th>\n",
       "      <th>make</th>\n",
       "      <th>model</th>\n",
       "      <th>Individual</th>\n",
       "      <th>Trustmark Dealer</th>\n",
       "      <th>Diesel</th>\n",
       "      <th>Electric</th>\n",
       "      <th>LPG</th>\n",
       "      <th>Petrol</th>\n",
       "      <th>Manual</th>\n",
       "      <th>5</th>\n",
       "      <th>&gt;5</th>\n",
       "    </tr>\n",
       "  </thead>\n",
       "  <tbody>\n",
       "    <tr>\n",
       "      <th>0</th>\n",
       "      <td>1.20</td>\n",
       "      <td>2012.0</td>\n",
       "      <td>120000</td>\n",
       "      <td>19.70</td>\n",
       "      <td>796.0</td>\n",
       "      <td>46.30</td>\n",
       "      <td>11.0</td>\n",
       "      <td>4.684721</td>\n",
       "      <td>1.180000</td>\n",
       "      <td>1</td>\n",
       "      <td>0</td>\n",
       "      <td>0</td>\n",
       "      <td>0</td>\n",
       "      <td>0</td>\n",
       "      <td>1</td>\n",
       "      <td>1</td>\n",
       "      <td>1</td>\n",
       "      <td>0</td>\n",
       "    </tr>\n",
       "    <tr>\n",
       "      <th>1</th>\n",
       "      <td>5.50</td>\n",
       "      <td>2016.0</td>\n",
       "      <td>20000</td>\n",
       "      <td>18.90</td>\n",
       "      <td>1197.0</td>\n",
       "      <td>82.00</td>\n",
       "      <td>7.0</td>\n",
       "      <td>5.458819</td>\n",
       "      <td>4.818750</td>\n",
       "      <td>1</td>\n",
       "      <td>0</td>\n",
       "      <td>0</td>\n",
       "      <td>0</td>\n",
       "      <td>0</td>\n",
       "      <td>1</td>\n",
       "      <td>1</td>\n",
       "      <td>1</td>\n",
       "      <td>0</td>\n",
       "    </tr>\n",
       "    <tr>\n",
       "      <th>2</th>\n",
       "      <td>2.15</td>\n",
       "      <td>2010.0</td>\n",
       "      <td>60000</td>\n",
       "      <td>17.00</td>\n",
       "      <td>1197.0</td>\n",
       "      <td>80.00</td>\n",
       "      <td>13.0</td>\n",
       "      <td>5.458819</td>\n",
       "      <td>3.394000</td>\n",
       "      <td>1</td>\n",
       "      <td>0</td>\n",
       "      <td>0</td>\n",
       "      <td>0</td>\n",
       "      <td>0</td>\n",
       "      <td>1</td>\n",
       "      <td>1</td>\n",
       "      <td>1</td>\n",
       "      <td>0</td>\n",
       "    </tr>\n",
       "    <tr>\n",
       "      <th>3</th>\n",
       "      <td>2.26</td>\n",
       "      <td>2012.0</td>\n",
       "      <td>37000</td>\n",
       "      <td>20.92</td>\n",
       "      <td>998.0</td>\n",
       "      <td>67.10</td>\n",
       "      <td>11.0</td>\n",
       "      <td>4.684721</td>\n",
       "      <td>2.242676</td>\n",
       "      <td>1</td>\n",
       "      <td>0</td>\n",
       "      <td>0</td>\n",
       "      <td>0</td>\n",
       "      <td>0</td>\n",
       "      <td>1</td>\n",
       "      <td>1</td>\n",
       "      <td>1</td>\n",
       "      <td>0</td>\n",
       "    </tr>\n",
       "    <tr>\n",
       "      <th>4</th>\n",
       "      <td>5.70</td>\n",
       "      <td>2015.0</td>\n",
       "      <td>30000</td>\n",
       "      <td>22.77</td>\n",
       "      <td>1498.0</td>\n",
       "      <td>98.59</td>\n",
       "      <td>8.0</td>\n",
       "      <td>5.858258</td>\n",
       "      <td>6.777576</td>\n",
       "      <td>0</td>\n",
       "      <td>0</td>\n",
       "      <td>1</td>\n",
       "      <td>0</td>\n",
       "      <td>0</td>\n",
       "      <td>0</td>\n",
       "      <td>1</td>\n",
       "      <td>1</td>\n",
       "      <td>0</td>\n",
       "    </tr>\n",
       "  </tbody>\n",
       "</table>\n",
       "</div>"
      ],
      "text/plain": [
       "   selling_price    year  km_driven  mileage  engine  max_power   age  \\\n",
       "0           1.20  2012.0     120000    19.70   796.0      46.30  11.0   \n",
       "1           5.50  2016.0      20000    18.90  1197.0      82.00   7.0   \n",
       "2           2.15  2010.0      60000    17.00  1197.0      80.00  13.0   \n",
       "3           2.26  2012.0      37000    20.92   998.0      67.10  11.0   \n",
       "4           5.70  2015.0      30000    22.77  1498.0      98.59   8.0   \n",
       "\n",
       "       make     model  Individual  Trustmark Dealer  Diesel  Electric  LPG  \\\n",
       "0  4.684721  1.180000           1                 0       0         0    0   \n",
       "1  5.458819  4.818750           1                 0       0         0    0   \n",
       "2  5.458819  3.394000           1                 0       0         0    0   \n",
       "3  4.684721  2.242676           1                 0       0         0    0   \n",
       "4  5.858258  6.777576           0                 0       1         0    0   \n",
       "\n",
       "   Petrol  Manual  5  >5  \n",
       "0       1       1  1   0  \n",
       "1       1       1  1   0  \n",
       "2       1       1  1   0  \n",
       "3       1       1  1   0  \n",
       "4       0       1  1   0  "
      ]
     },
     "execution_count": 8,
     "metadata": {},
     "output_type": "execute_result"
    }
   ],
   "source": [
    "df.head()"
   ]
  },
  {
   "cell_type": "code",
   "execution_count": 9,
   "id": "d63303f4-de89-4b78-abf7-6dde682dc3d2",
   "metadata": {},
   "outputs": [],
   "source": [
    "X = df.drop(\"selling_price\", axis=1)\n",
    "y = df[\"selling_price\"]"
   ]
  },
  {
   "cell_type": "code",
   "execution_count": 10,
   "id": "3d06ab8e-213f-4a87-b090-d6b2ecf596b6",
   "metadata": {},
   "outputs": [
    {
     "data": {
      "text/html": [
       "<div>\n",
       "<style scoped>\n",
       "    .dataframe tbody tr th:only-of-type {\n",
       "        vertical-align: middle;\n",
       "    }\n",
       "\n",
       "    .dataframe tbody tr th {\n",
       "        vertical-align: top;\n",
       "    }\n",
       "\n",
       "    .dataframe thead th {\n",
       "        text-align: right;\n",
       "    }\n",
       "</style>\n",
       "<table border=\"1\" class=\"dataframe\">\n",
       "  <thead>\n",
       "    <tr style=\"text-align: right;\">\n",
       "      <th></th>\n",
       "      <th>year</th>\n",
       "      <th>km_driven</th>\n",
       "      <th>mileage</th>\n",
       "      <th>engine</th>\n",
       "      <th>max_power</th>\n",
       "      <th>age</th>\n",
       "      <th>make</th>\n",
       "      <th>model</th>\n",
       "      <th>Individual</th>\n",
       "      <th>Trustmark Dealer</th>\n",
       "      <th>Diesel</th>\n",
       "      <th>Electric</th>\n",
       "      <th>LPG</th>\n",
       "      <th>Petrol</th>\n",
       "      <th>Manual</th>\n",
       "      <th>5</th>\n",
       "      <th>&gt;5</th>\n",
       "    </tr>\n",
       "  </thead>\n",
       "  <tbody>\n",
       "    <tr>\n",
       "      <th>0</th>\n",
       "      <td>2012.0</td>\n",
       "      <td>120000</td>\n",
       "      <td>19.70</td>\n",
       "      <td>796.0</td>\n",
       "      <td>46.30</td>\n",
       "      <td>11.0</td>\n",
       "      <td>4.684721</td>\n",
       "      <td>1.180000</td>\n",
       "      <td>1</td>\n",
       "      <td>0</td>\n",
       "      <td>0</td>\n",
       "      <td>0</td>\n",
       "      <td>0</td>\n",
       "      <td>1</td>\n",
       "      <td>1</td>\n",
       "      <td>1</td>\n",
       "      <td>0</td>\n",
       "    </tr>\n",
       "    <tr>\n",
       "      <th>1</th>\n",
       "      <td>2016.0</td>\n",
       "      <td>20000</td>\n",
       "      <td>18.90</td>\n",
       "      <td>1197.0</td>\n",
       "      <td>82.00</td>\n",
       "      <td>7.0</td>\n",
       "      <td>5.458819</td>\n",
       "      <td>4.818750</td>\n",
       "      <td>1</td>\n",
       "      <td>0</td>\n",
       "      <td>0</td>\n",
       "      <td>0</td>\n",
       "      <td>0</td>\n",
       "      <td>1</td>\n",
       "      <td>1</td>\n",
       "      <td>1</td>\n",
       "      <td>0</td>\n",
       "    </tr>\n",
       "    <tr>\n",
       "      <th>2</th>\n",
       "      <td>2010.0</td>\n",
       "      <td>60000</td>\n",
       "      <td>17.00</td>\n",
       "      <td>1197.0</td>\n",
       "      <td>80.00</td>\n",
       "      <td>13.0</td>\n",
       "      <td>5.458819</td>\n",
       "      <td>3.394000</td>\n",
       "      <td>1</td>\n",
       "      <td>0</td>\n",
       "      <td>0</td>\n",
       "      <td>0</td>\n",
       "      <td>0</td>\n",
       "      <td>1</td>\n",
       "      <td>1</td>\n",
       "      <td>1</td>\n",
       "      <td>0</td>\n",
       "    </tr>\n",
       "    <tr>\n",
       "      <th>3</th>\n",
       "      <td>2012.0</td>\n",
       "      <td>37000</td>\n",
       "      <td>20.92</td>\n",
       "      <td>998.0</td>\n",
       "      <td>67.10</td>\n",
       "      <td>11.0</td>\n",
       "      <td>4.684721</td>\n",
       "      <td>2.242676</td>\n",
       "      <td>1</td>\n",
       "      <td>0</td>\n",
       "      <td>0</td>\n",
       "      <td>0</td>\n",
       "      <td>0</td>\n",
       "      <td>1</td>\n",
       "      <td>1</td>\n",
       "      <td>1</td>\n",
       "      <td>0</td>\n",
       "    </tr>\n",
       "    <tr>\n",
       "      <th>4</th>\n",
       "      <td>2015.0</td>\n",
       "      <td>30000</td>\n",
       "      <td>22.77</td>\n",
       "      <td>1498.0</td>\n",
       "      <td>98.59</td>\n",
       "      <td>8.0</td>\n",
       "      <td>5.858258</td>\n",
       "      <td>6.777576</td>\n",
       "      <td>0</td>\n",
       "      <td>0</td>\n",
       "      <td>1</td>\n",
       "      <td>0</td>\n",
       "      <td>0</td>\n",
       "      <td>0</td>\n",
       "      <td>1</td>\n",
       "      <td>1</td>\n",
       "      <td>0</td>\n",
       "    </tr>\n",
       "  </tbody>\n",
       "</table>\n",
       "</div>"
      ],
      "text/plain": [
       "     year  km_driven  mileage  engine  max_power   age      make     model  \\\n",
       "0  2012.0     120000    19.70   796.0      46.30  11.0  4.684721  1.180000   \n",
       "1  2016.0      20000    18.90  1197.0      82.00   7.0  5.458819  4.818750   \n",
       "2  2010.0      60000    17.00  1197.0      80.00  13.0  5.458819  3.394000   \n",
       "3  2012.0      37000    20.92   998.0      67.10  11.0  4.684721  2.242676   \n",
       "4  2015.0      30000    22.77  1498.0      98.59   8.0  5.858258  6.777576   \n",
       "\n",
       "   Individual  Trustmark Dealer  Diesel  Electric  LPG  Petrol  Manual  5  >5  \n",
       "0           1                 0       0         0    0       1       1  1   0  \n",
       "1           1                 0       0         0    0       1       1  1   0  \n",
       "2           1                 0       0         0    0       1       1  1   0  \n",
       "3           1                 0       0         0    0       1       1  1   0  \n",
       "4           0                 0       1         0    0       0       1  1   0  "
      ]
     },
     "execution_count": 10,
     "metadata": {},
     "output_type": "execute_result"
    }
   ],
   "source": [
    "X.head()"
   ]
  },
  {
   "cell_type": "code",
   "execution_count": 11,
   "id": "094afe52-11ae-4df2-b782-3f465af58220",
   "metadata": {},
   "outputs": [
    {
     "data": {
      "text/plain": [
       "0    1.20\n",
       "1    5.50\n",
       "2    2.15\n",
       "3    2.26\n",
       "4    5.70\n",
       "Name: selling_price, dtype: float64"
      ]
     },
     "execution_count": 11,
     "metadata": {},
     "output_type": "execute_result"
    }
   ],
   "source": [
    "y.head()"
   ]
  },
  {
   "cell_type": "code",
   "execution_count": 12,
   "id": "b2808797-95ee-4178-b04f-406c981d9344",
   "metadata": {},
   "outputs": [],
   "source": [
    "from sklearn.model_selection import train_test_split\n",
    "X_train, X_test, y_train, y_test = train_test_split(X, y, test_size=0.2, random_state=42)"
   ]
  },
  {
   "cell_type": "code",
   "execution_count": 13,
   "id": "f5ebdcb1-0cd7-413c-9fcc-c65d393b103b",
   "metadata": {},
   "outputs": [
    {
     "data": {
      "text/plain": [
       "((15856, 17), (3964, 17))"
      ]
     },
     "execution_count": 13,
     "metadata": {},
     "output_type": "execute_result"
    }
   ],
   "source": [
    "X_train.shape, X_test.shape"
   ]
  },
  {
   "cell_type": "code",
   "execution_count": 14,
   "id": "4a891f01-f766-4a7c-a958-471255a94abe",
   "metadata": {},
   "outputs": [
    {
     "data": {
      "text/plain": [
       "(15856,)"
      ]
     },
     "execution_count": 14,
     "metadata": {},
     "output_type": "execute_result"
    }
   ],
   "source": [
    "y_train.shape"
   ]
  },
  {
   "cell_type": "code",
   "execution_count": 15,
   "id": "8e481423-4007-47a8-88b4-3844dcd77846",
   "metadata": {},
   "outputs": [],
   "source": [
    "from sklearn.preprocessing import StandardScaler\n",
    "scaler = StandardScaler()\n",
    "\n",
    "X_new = scaler.fit_transform(X_train)\n",
    "X_train = pd.DataFrame(X_new, columns = X_train.columns)"
   ]
  },
  {
   "cell_type": "code",
   "execution_count": 16,
   "id": "8c5dd70b-f0dd-4aac-9665-b0d0c82a3f7d",
   "metadata": {},
   "outputs": [
    {
     "data": {
      "text/html": [
       "<div>\n",
       "<style scoped>\n",
       "    .dataframe tbody tr th:only-of-type {\n",
       "        vertical-align: middle;\n",
       "    }\n",
       "\n",
       "    .dataframe tbody tr th {\n",
       "        vertical-align: top;\n",
       "    }\n",
       "\n",
       "    .dataframe thead th {\n",
       "        text-align: right;\n",
       "    }\n",
       "</style>\n",
       "<table border=\"1\" class=\"dataframe\">\n",
       "  <thead>\n",
       "    <tr style=\"text-align: right;\">\n",
       "      <th></th>\n",
       "      <th>year</th>\n",
       "      <th>km_driven</th>\n",
       "      <th>mileage</th>\n",
       "      <th>engine</th>\n",
       "      <th>max_power</th>\n",
       "      <th>age</th>\n",
       "      <th>make</th>\n",
       "      <th>model</th>\n",
       "      <th>Individual</th>\n",
       "      <th>Trustmark Dealer</th>\n",
       "      <th>Diesel</th>\n",
       "      <th>Electric</th>\n",
       "      <th>LPG</th>\n",
       "      <th>Petrol</th>\n",
       "      <th>Manual</th>\n",
       "      <th>5</th>\n",
       "      <th>&gt;5</th>\n",
       "    </tr>\n",
       "  </thead>\n",
       "  <tbody>\n",
       "    <tr>\n",
       "      <th>0</th>\n",
       "      <td>-0.489414</td>\n",
       "      <td>0.502456</td>\n",
       "      <td>0.243228</td>\n",
       "      <td>0.240112</td>\n",
       "      <td>0.120997</td>\n",
       "      <td>0.489414</td>\n",
       "      <td>-0.284819</td>\n",
       "      <td>-0.599662</td>\n",
       "      <td>1.251112</td>\n",
       "      <td>-0.099681</td>\n",
       "      <td>1.015253</td>\n",
       "      <td>-0.019456</td>\n",
       "      <td>-0.056244</td>\n",
       "      <td>-0.974099</td>\n",
       "      <td>0.496825</td>\n",
       "      <td>0.443384</td>\n",
       "      <td>-0.423776</td>\n",
       "    </tr>\n",
       "    <tr>\n",
       "      <th>1</th>\n",
       "      <td>-1.429050</td>\n",
       "      <td>0.900732</td>\n",
       "      <td>-0.799809</td>\n",
       "      <td>1.011304</td>\n",
       "      <td>1.854161</td>\n",
       "      <td>1.429050</td>\n",
       "      <td>2.975929</td>\n",
       "      <td>0.929139</td>\n",
       "      <td>-0.799289</td>\n",
       "      <td>-0.099681</td>\n",
       "      <td>1.015253</td>\n",
       "      <td>-0.019456</td>\n",
       "      <td>-0.056244</td>\n",
       "      <td>-0.974099</td>\n",
       "      <td>-2.012782</td>\n",
       "      <td>0.443384</td>\n",
       "      <td>-0.423776</td>\n",
       "    </tr>\n",
       "    <tr>\n",
       "      <th>2</th>\n",
       "      <td>1.076647</td>\n",
       "      <td>0.366270</td>\n",
       "      <td>1.841617</td>\n",
       "      <td>-0.439780</td>\n",
       "      <td>-0.541816</td>\n",
       "      <td>-1.076647</td>\n",
       "      <td>-0.521072</td>\n",
       "      <td>0.064971</td>\n",
       "      <td>1.251112</td>\n",
       "      <td>-0.099681</td>\n",
       "      <td>1.015253</td>\n",
       "      <td>-0.019456</td>\n",
       "      <td>-0.056244</td>\n",
       "      <td>-0.974099</td>\n",
       "      <td>0.496825</td>\n",
       "      <td>0.443384</td>\n",
       "      <td>-0.423776</td>\n",
       "    </tr>\n",
       "    <tr>\n",
       "      <th>3</th>\n",
       "      <td>1.389859</td>\n",
       "      <td>-0.972890</td>\n",
       "      <td>1.013255</td>\n",
       "      <td>-0.534965</td>\n",
       "      <td>-0.317892</td>\n",
       "      <td>-1.389859</td>\n",
       "      <td>-0.604885</td>\n",
       "      <td>-0.206702</td>\n",
       "      <td>1.251112</td>\n",
       "      <td>-0.099681</td>\n",
       "      <td>-0.984977</td>\n",
       "      <td>-0.019456</td>\n",
       "      <td>-0.056244</td>\n",
       "      <td>1.026590</td>\n",
       "      <td>0.496825</td>\n",
       "      <td>0.443384</td>\n",
       "      <td>-0.423776</td>\n",
       "    </tr>\n",
       "    <tr>\n",
       "      <th>4</th>\n",
       "      <td>-2.055474</td>\n",
       "      <td>1.183386</td>\n",
       "      <td>-1.399497</td>\n",
       "      <td>0.630564</td>\n",
       "      <td>0.712154</td>\n",
       "      <td>2.055474</td>\n",
       "      <td>-0.163433</td>\n",
       "      <td>-0.799491</td>\n",
       "      <td>1.251112</td>\n",
       "      <td>-0.099681</td>\n",
       "      <td>-0.984977</td>\n",
       "      <td>-0.019456</td>\n",
       "      <td>-0.056244</td>\n",
       "      <td>1.026590</td>\n",
       "      <td>0.496825</td>\n",
       "      <td>0.443384</td>\n",
       "      <td>-0.423776</td>\n",
       "    </tr>\n",
       "  </tbody>\n",
       "</table>\n",
       "</div>"
      ],
      "text/plain": [
       "       year  km_driven   mileage    engine  max_power       age      make  \\\n",
       "0 -0.489414   0.502456  0.243228  0.240112   0.120997  0.489414 -0.284819   \n",
       "1 -1.429050   0.900732 -0.799809  1.011304   1.854161  1.429050  2.975929   \n",
       "2  1.076647   0.366270  1.841617 -0.439780  -0.541816 -1.076647 -0.521072   \n",
       "3  1.389859  -0.972890  1.013255 -0.534965  -0.317892 -1.389859 -0.604885   \n",
       "4 -2.055474   1.183386 -1.399497  0.630564   0.712154  2.055474 -0.163433   \n",
       "\n",
       "      model  Individual  Trustmark Dealer    Diesel  Electric       LPG  \\\n",
       "0 -0.599662    1.251112         -0.099681  1.015253 -0.019456 -0.056244   \n",
       "1  0.929139   -0.799289         -0.099681  1.015253 -0.019456 -0.056244   \n",
       "2  0.064971    1.251112         -0.099681  1.015253 -0.019456 -0.056244   \n",
       "3 -0.206702    1.251112         -0.099681 -0.984977 -0.019456 -0.056244   \n",
       "4 -0.799491    1.251112         -0.099681 -0.984977 -0.019456 -0.056244   \n",
       "\n",
       "     Petrol    Manual         5        >5  \n",
       "0 -0.974099  0.496825  0.443384 -0.423776  \n",
       "1 -0.974099 -2.012782  0.443384 -0.423776  \n",
       "2 -0.974099  0.496825  0.443384 -0.423776  \n",
       "3  1.026590  0.496825  0.443384 -0.423776  \n",
       "4  1.026590  0.496825  0.443384 -0.423776  "
      ]
     },
     "execution_count": 16,
     "metadata": {},
     "output_type": "execute_result"
    }
   ],
   "source": [
    "X_train.head()"
   ]
  },
  {
   "cell_type": "code",
   "execution_count": 17,
   "id": "a4fa46cc-1d45-4103-af20-6d48dd8f60c2",
   "metadata": {},
   "outputs": [],
   "source": [
    "X_new = scaler.transform(X_test) # only transform. no fit_transform\n",
    "X_test = pd.DataFrame(X_new, columns = X_test.columns)"
   ]
  },
  {
   "cell_type": "code",
   "execution_count": 18,
   "id": "ce6ab165-6a88-4e9f-a032-06aa84950be2",
   "metadata": {},
   "outputs": [
    {
     "data": {
      "text/html": [
       "<div>\n",
       "<style scoped>\n",
       "    .dataframe tbody tr th:only-of-type {\n",
       "        vertical-align: middle;\n",
       "    }\n",
       "\n",
       "    .dataframe tbody tr th {\n",
       "        vertical-align: top;\n",
       "    }\n",
       "\n",
       "    .dataframe thead th {\n",
       "        text-align: right;\n",
       "    }\n",
       "</style>\n",
       "<table border=\"1\" class=\"dataframe\">\n",
       "  <thead>\n",
       "    <tr style=\"text-align: right;\">\n",
       "      <th></th>\n",
       "      <th>year</th>\n",
       "      <th>km_driven</th>\n",
       "      <th>mileage</th>\n",
       "      <th>engine</th>\n",
       "      <th>max_power</th>\n",
       "      <th>age</th>\n",
       "      <th>make</th>\n",
       "      <th>model</th>\n",
       "      <th>Individual</th>\n",
       "      <th>Trustmark Dealer</th>\n",
       "      <th>Diesel</th>\n",
       "      <th>Electric</th>\n",
       "      <th>LPG</th>\n",
       "      <th>Petrol</th>\n",
       "      <th>Manual</th>\n",
       "      <th>5</th>\n",
       "      <th>&gt;5</th>\n",
       "    </tr>\n",
       "  </thead>\n",
       "  <tbody>\n",
       "    <tr>\n",
       "      <th>0</th>\n",
       "      <td>0.763435</td>\n",
       "      <td>0.502456</td>\n",
       "      <td>0.499903</td>\n",
       "      <td>-0.026017</td>\n",
       "      <td>-0.299979</td>\n",
       "      <td>-0.763435</td>\n",
       "      <td>-0.542630</td>\n",
       "      <td>-0.456837</td>\n",
       "      <td>1.251112</td>\n",
       "      <td>-0.099681</td>\n",
       "      <td>1.015253</td>\n",
       "      <td>-0.019456</td>\n",
       "      <td>-0.056244</td>\n",
       "      <td>-0.974099</td>\n",
       "      <td>0.496825</td>\n",
       "      <td>0.443384</td>\n",
       "      <td>-0.423776</td>\n",
       "    </tr>\n",
       "    <tr>\n",
       "      <th>1</th>\n",
       "      <td>0.137011</td>\n",
       "      <td>0.082550</td>\n",
       "      <td>0.149891</td>\n",
       "      <td>0.045857</td>\n",
       "      <td>-0.210409</td>\n",
       "      <td>-0.137011</td>\n",
       "      <td>-0.284819</td>\n",
       "      <td>-0.330968</td>\n",
       "      <td>-0.799289</td>\n",
       "      <td>-0.099681</td>\n",
       "      <td>1.015253</td>\n",
       "      <td>-0.019456</td>\n",
       "      <td>-0.056244</td>\n",
       "      <td>-0.974099</td>\n",
       "      <td>0.496825</td>\n",
       "      <td>0.443384</td>\n",
       "      <td>-0.423776</td>\n",
       "    </tr>\n",
       "    <tr>\n",
       "      <th>2</th>\n",
       "      <td>0.450223</td>\n",
       "      <td>0.307257</td>\n",
       "      <td>1.820617</td>\n",
       "      <td>0.045857</td>\n",
       "      <td>0.009035</td>\n",
       "      <td>-0.450223</td>\n",
       "      <td>-0.163433</td>\n",
       "      <td>-0.206702</td>\n",
       "      <td>-0.799289</td>\n",
       "      <td>-0.099681</td>\n",
       "      <td>1.015253</td>\n",
       "      <td>-0.019456</td>\n",
       "      <td>-0.056244</td>\n",
       "      <td>-0.974099</td>\n",
       "      <td>0.496825</td>\n",
       "      <td>0.443384</td>\n",
       "      <td>-0.423776</td>\n",
       "    </tr>\n",
       "    <tr>\n",
       "      <th>3</th>\n",
       "      <td>0.450223</td>\n",
       "      <td>-0.623074</td>\n",
       "      <td>-0.186121</td>\n",
       "      <td>-0.534965</td>\n",
       "      <td>-0.212649</td>\n",
       "      <td>-0.450223</td>\n",
       "      <td>-0.163433</td>\n",
       "      <td>-0.176406</td>\n",
       "      <td>-0.799289</td>\n",
       "      <td>-0.099681</td>\n",
       "      <td>-0.984977</td>\n",
       "      <td>-0.019456</td>\n",
       "      <td>-0.056244</td>\n",
       "      <td>1.026590</td>\n",
       "      <td>0.496825</td>\n",
       "      <td>0.443384</td>\n",
       "      <td>-0.423776</td>\n",
       "    </tr>\n",
       "    <tr>\n",
       "      <th>4</th>\n",
       "      <td>-0.802626</td>\n",
       "      <td>0.048503</td>\n",
       "      <td>0.331897</td>\n",
       "      <td>-0.925417</td>\n",
       "      <td>-0.696322</td>\n",
       "      <td>0.802626</td>\n",
       "      <td>-0.521072</td>\n",
       "      <td>-0.927358</td>\n",
       "      <td>1.251112</td>\n",
       "      <td>-0.099681</td>\n",
       "      <td>-0.984977</td>\n",
       "      <td>-0.019456</td>\n",
       "      <td>-0.056244</td>\n",
       "      <td>1.026590</td>\n",
       "      <td>0.496825</td>\n",
       "      <td>0.443384</td>\n",
       "      <td>-0.423776</td>\n",
       "    </tr>\n",
       "  </tbody>\n",
       "</table>\n",
       "</div>"
      ],
      "text/plain": [
       "       year  km_driven   mileage    engine  max_power       age      make  \\\n",
       "0  0.763435   0.502456  0.499903 -0.026017  -0.299979 -0.763435 -0.542630   \n",
       "1  0.137011   0.082550  0.149891  0.045857  -0.210409 -0.137011 -0.284819   \n",
       "2  0.450223   0.307257  1.820617  0.045857   0.009035 -0.450223 -0.163433   \n",
       "3  0.450223  -0.623074 -0.186121 -0.534965  -0.212649 -0.450223 -0.163433   \n",
       "4 -0.802626   0.048503  0.331897 -0.925417  -0.696322  0.802626 -0.521072   \n",
       "\n",
       "      model  Individual  Trustmark Dealer    Diesel  Electric       LPG  \\\n",
       "0 -0.456837    1.251112         -0.099681  1.015253 -0.019456 -0.056244   \n",
       "1 -0.330968   -0.799289         -0.099681  1.015253 -0.019456 -0.056244   \n",
       "2 -0.206702   -0.799289         -0.099681  1.015253 -0.019456 -0.056244   \n",
       "3 -0.176406   -0.799289         -0.099681 -0.984977 -0.019456 -0.056244   \n",
       "4 -0.927358    1.251112         -0.099681 -0.984977 -0.019456 -0.056244   \n",
       "\n",
       "     Petrol    Manual         5        >5  \n",
       "0 -0.974099  0.496825  0.443384 -0.423776  \n",
       "1 -0.974099  0.496825  0.443384 -0.423776  \n",
       "2 -0.974099  0.496825  0.443384 -0.423776  \n",
       "3  1.026590  0.496825  0.443384 -0.423776  \n",
       "4  1.026590  0.496825  0.443384 -0.423776  "
      ]
     },
     "execution_count": 18,
     "metadata": {},
     "output_type": "execute_result"
    }
   ],
   "source": [
    "X_test.head()"
   ]
  },
  {
   "cell_type": "code",
   "execution_count": 19,
   "id": "3d45d4b7-c4bc-4e3f-9f22-d8c7919303c3",
   "metadata": {},
   "outputs": [],
   "source": [
    "def predict(X, weights):\n",
    "    \n",
    "    return np.dot(X,weights)"
   ]
  },
  {
   "cell_type": "code",
   "execution_count": 20,
   "id": "653c2c8a-2af3-472d-b385-d3a171a8028f",
   "metadata": {},
   "outputs": [],
   "source": [
    "def loss(X, y, weights):\n",
    "    \n",
    "    y_hat = predict(X, weights)\n",
    "    err = np.mean((y - y_hat)**2)\n",
    "\n",
    "    return err"
   ]
  },
  {
   "cell_type": "code",
   "execution_count": 21,
   "id": "d88c68a0-5c02-475a-87c2-88ddd53efee9",
   "metadata": {},
   "outputs": [],
   "source": [
    "def gradients(X, y, weights):\n",
    "\n",
    "    y_hat = predict(X, weights)\n",
    "    grads = 2*np.dot(X.T, y_hat - y)/len(y)\n",
    "\n",
    "    return grads"
   ]
  },
  {
   "cell_type": "code",
   "execution_count": 22,
   "id": "0da34917-07dc-4c3f-83ca-1380bfb853de",
   "metadata": {},
   "outputs": [],
   "source": [
    "def gradient_descent(X, y, learning_rate=0.1, n_itrs=100):\n",
    "\n",
    "    n, d = X.shape\n",
    "    error_list = []\n",
    "\n",
    "    # Step 1: Initialization\n",
    "    w = np.random.rand(d)\n",
    "\n",
    "    for _ in range(n_itrs):\n",
    "\n",
    "        e = loss(X, y, w)\n",
    "        error_list.append(e)\n",
    "        \n",
    "        # Step 2: Calculate derivatives\n",
    "        dW = gradients(X, y, w)\n",
    "\n",
    "        # Step 3: Update equation\n",
    "        w = w - learning_rate*dW\n",
    "\n",
    "    return w, error_list"
   ]
  },
  {
   "cell_type": "code",
   "execution_count": 23,
   "id": "963a354a-4f2f-4d4d-bb38-3fa9a1b43f8a",
   "metadata": {},
   "outputs": [],
   "source": [
    "def r2_score(y_true, y_pred):\n",
    "    numerator = np.sum((y_true - y_pred)**2)\n",
    "    denominator = np.sum((y_true - y_true.mean())**2)\n",
    "    score = 1 - (numerator/denominator)\n",
    "    return score"
   ]
  },
  {
   "cell_type": "code",
   "execution_count": 24,
   "id": "afff44f5-ff87-4983-b856-c62b287b255b",
   "metadata": {},
   "outputs": [],
   "source": [
    "W_best, error_list = gradient_descent(X_train, y_train)"
   ]
  },
  {
   "cell_type": "code",
   "execution_count": 25,
   "id": "006f089a-0ffb-45d7-aa0d-b6dd28ec528c",
   "metadata": {},
   "outputs": [
    {
     "data": {
      "text/plain": [
       "array([ 0.67304938, -0.14579014, -0.15053104,  0.06207536,  0.20381199,\n",
       "        0.07042863,  0.37019597,  3.78232164, -0.06370781, -0.01390922,\n",
       "        0.37808485,  0.05405741,  0.0554417 ,  0.20671815, -0.06882982,\n",
       "        0.26598084,  0.27250043])"
      ]
     },
     "execution_count": 25,
     "metadata": {},
     "output_type": "execute_result"
    }
   ],
   "source": [
    "W_best"
   ]
  },
  {
   "cell_type": "code",
   "execution_count": 26,
   "id": "1cb25820-d86f-4d0f-b47a-e73e12c45b78",
   "metadata": {},
   "outputs": [
    {
     "data": {
      "text/plain": [
       "[np.float64(44.58349733421919),\n",
       " np.float64(44.58266655731586),\n",
       " np.float64(44.58186384589736),\n",
       " np.float64(44.58108803636857),\n",
       " np.float64(44.58033801880368)]"
      ]
     },
     "execution_count": 26,
     "metadata": {},
     "output_type": "execute_result"
    }
   ],
   "source": [
    "error_list[-5:]"
   ]
  },
  {
   "cell_type": "code",
   "execution_count": 27,
   "id": "b39d9755-98ca-4964-901f-5a7cde43f7ac",
   "metadata": {},
   "outputs": [
    {
     "data": {
      "text/plain": [
       "[<matplotlib.lines.Line2D at 0x11d564e50>]"
      ]
     },
     "execution_count": 27,
     "metadata": {},
     "output_type": "execute_result"
    },
    {
     "data": {
      "image/png": "[encoded data removed]",
      "text/plain": [
       "<Figure size 640x480 with 1 Axes>"
      ]
     },
     "metadata": {},
     "output_type": "display_data"
    }
   ],
   "source": [
    "plt.plot(error_list)"
   ]
  },
  {
   "cell_type": "code",
   "execution_count": 28,
   "id": "3e0d44f0-8cc2-4d00-a491-003177cb1939",
   "metadata": {},
   "outputs": [
    {
     "data": {
      "text/plain": [
       "array([-2.67053104,  4.55617733,  0.30155961, -0.55129225, -4.37510099,\n",
       "        0.95082708, -1.65394562, -0.5339046 , -7.38473108, -4.19269673])"
      ]
     },
     "execution_count": 28,
     "metadata": {},
     "output_type": "execute_result"
    }
   ],
   "source": [
    "y_train_pred = predict(X_train, W_best)\n",
    "y_train_pred[:10]"
   ]
  },
  {
   "cell_type": "code",
   "execution_count": 29,
   "id": "8a8cf647-cc39-46ef-86f5-e5add90a5385",
   "metadata": {},
   "outputs": [
    {
     "data": {
      "text/plain": [
       "np.float64(-0.9111978514208274)"
      ]
     },
     "execution_count": 29,
     "metadata": {},
     "output_type": "execute_result"
    }
   ],
   "source": [
    "r2_score(y_train, y_train_pred)"
   ]
  },
  {
   "cell_type": "code",
   "execution_count": 30,
   "id": "b3612dd6-a7a8-4658-ac46-5129014dffc4",
   "metadata": {},
   "outputs": [],
   "source": [
    "# Because w0 is not considered"
   ]
  },
  {
   "cell_type": "markdown",
   "id": "0779b78b-033f-4466-9ffa-f735a271823d",
   "metadata": {},
   "source": [
    "# Incorporated w0"
   ]
  },
  {
   "cell_type": "code",
   "execution_count": 31,
   "id": "c51d3436-f8e4-4b1b-b75d-d261c81de7d2",
   "metadata": {},
   "outputs": [],
   "source": [
    "x0 = pd.DataFrame([1]*len(X_train), columns = ['x0'])"
   ]
  },
  {
   "cell_type": "code",
   "execution_count": 32,
   "id": "ce3a1a29-df3f-441a-b42c-5a807f8af1e5",
   "metadata": {},
   "outputs": [
    {
     "data": {
      "text/html": [
       "<div>\n",
       "<style scoped>\n",
       "    .dataframe tbody tr th:only-of-type {\n",
       "        vertical-align: middle;\n",
       "    }\n",
       "\n",
       "    .dataframe tbody tr th {\n",
       "        vertical-align: top;\n",
       "    }\n",
       "\n",
       "    .dataframe thead th {\n",
       "        text-align: right;\n",
       "    }\n",
       "</style>\n",
       "<table border=\"1\" class=\"dataframe\">\n",
       "  <thead>\n",
       "    <tr style=\"text-align: right;\">\n",
       "      <th></th>\n",
       "      <th>x0</th>\n",
       "      <th>year</th>\n",
       "      <th>km_driven</th>\n",
       "      <th>mileage</th>\n",
       "      <th>engine</th>\n",
       "      <th>max_power</th>\n",
       "      <th>age</th>\n",
       "      <th>make</th>\n",
       "      <th>model</th>\n",
       "      <th>Individual</th>\n",
       "      <th>Trustmark Dealer</th>\n",
       "      <th>Diesel</th>\n",
       "      <th>Electric</th>\n",
       "      <th>LPG</th>\n",
       "      <th>Petrol</th>\n",
       "      <th>Manual</th>\n",
       "      <th>5</th>\n",
       "      <th>&gt;5</th>\n",
       "    </tr>\n",
       "  </thead>\n",
       "  <tbody>\n",
       "    <tr>\n",
       "      <th>0</th>\n",
       "      <td>1</td>\n",
       "      <td>-0.489414</td>\n",
       "      <td>0.502456</td>\n",
       "      <td>0.243228</td>\n",
       "      <td>0.240112</td>\n",
       "      <td>0.120997</td>\n",
       "      <td>0.489414</td>\n",
       "      <td>-0.284819</td>\n",
       "      <td>-0.599662</td>\n",
       "      <td>1.251112</td>\n",
       "      <td>-0.099681</td>\n",
       "      <td>1.015253</td>\n",
       "      <td>-0.019456</td>\n",
       "      <td>-0.056244</td>\n",
       "      <td>-0.974099</td>\n",
       "      <td>0.496825</td>\n",
       "      <td>0.443384</td>\n",
       "      <td>-0.423776</td>\n",
       "    </tr>\n",
       "    <tr>\n",
       "      <th>1</th>\n",
       "      <td>1</td>\n",
       "      <td>-1.429050</td>\n",
       "      <td>0.900732</td>\n",
       "      <td>-0.799809</td>\n",
       "      <td>1.011304</td>\n",
       "      <td>1.854161</td>\n",
       "      <td>1.429050</td>\n",
       "      <td>2.975929</td>\n",
       "      <td>0.929139</td>\n",
       "      <td>-0.799289</td>\n",
       "      <td>-0.099681</td>\n",
       "      <td>1.015253</td>\n",
       "      <td>-0.019456</td>\n",
       "      <td>-0.056244</td>\n",
       "      <td>-0.974099</td>\n",
       "      <td>-2.012782</td>\n",
       "      <td>0.443384</td>\n",
       "      <td>-0.423776</td>\n",
       "    </tr>\n",
       "    <tr>\n",
       "      <th>2</th>\n",
       "      <td>1</td>\n",
       "      <td>1.076647</td>\n",
       "      <td>0.366270</td>\n",
       "      <td>1.841617</td>\n",
       "      <td>-0.439780</td>\n",
       "      <td>-0.541816</td>\n",
       "      <td>-1.076647</td>\n",
       "      <td>-0.521072</td>\n",
       "      <td>0.064971</td>\n",
       "      <td>1.251112</td>\n",
       "      <td>-0.099681</td>\n",
       "      <td>1.015253</td>\n",
       "      <td>-0.019456</td>\n",
       "      <td>-0.056244</td>\n",
       "      <td>-0.974099</td>\n",
       "      <td>0.496825</td>\n",
       "      <td>0.443384</td>\n",
       "      <td>-0.423776</td>\n",
       "    </tr>\n",
       "    <tr>\n",
       "      <th>3</th>\n",
       "      <td>1</td>\n",
       "      <td>1.389859</td>\n",
       "      <td>-0.972890</td>\n",
       "      <td>1.013255</td>\n",
       "      <td>-0.534965</td>\n",
       "      <td>-0.317892</td>\n",
       "      <td>-1.389859</td>\n",
       "      <td>-0.604885</td>\n",
       "      <td>-0.206702</td>\n",
       "      <td>1.251112</td>\n",
       "      <td>-0.099681</td>\n",
       "      <td>-0.984977</td>\n",
       "      <td>-0.019456</td>\n",
       "      <td>-0.056244</td>\n",
       "      <td>1.026590</td>\n",
       "      <td>0.496825</td>\n",
       "      <td>0.443384</td>\n",
       "      <td>-0.423776</td>\n",
       "    </tr>\n",
       "    <tr>\n",
       "      <th>4</th>\n",
       "      <td>1</td>\n",
       "      <td>-2.055474</td>\n",
       "      <td>1.183386</td>\n",
       "      <td>-1.399497</td>\n",
       "      <td>0.630564</td>\n",
       "      <td>0.712154</td>\n",
       "      <td>2.055474</td>\n",
       "      <td>-0.163433</td>\n",
       "      <td>-0.799491</td>\n",
       "      <td>1.251112</td>\n",
       "      <td>-0.099681</td>\n",
       "      <td>-0.984977</td>\n",
       "      <td>-0.019456</td>\n",
       "      <td>-0.056244</td>\n",
       "      <td>1.026590</td>\n",
       "      <td>0.496825</td>\n",
       "      <td>0.443384</td>\n",
       "      <td>-0.423776</td>\n",
       "    </tr>\n",
       "  </tbody>\n",
       "</table>\n",
       "</div>"
      ],
      "text/plain": [
       "   x0      year  km_driven   mileage    engine  max_power       age      make  \\\n",
       "0   1 -0.489414   0.502456  0.243228  0.240112   0.120997  0.489414 -0.284819   \n",
       "1   1 -1.429050   0.900732 -0.799809  1.011304   1.854161  1.429050  2.975929   \n",
       "2   1  1.076647   0.366270  1.841617 -0.439780  -0.541816 -1.076647 -0.521072   \n",
       "3   1  1.389859  -0.972890  1.013255 -0.534965  -0.317892 -1.389859 -0.604885   \n",
       "4   1 -2.055474   1.183386 -1.399497  0.630564   0.712154  2.055474 -0.163433   \n",
       "\n",
       "      model  Individual  Trustmark Dealer    Diesel  Electric       LPG  \\\n",
       "0 -0.599662    1.251112         -0.099681  1.015253 -0.019456 -0.056244   \n",
       "1  0.929139   -0.799289         -0.099681  1.015253 -0.019456 -0.056244   \n",
       "2  0.064971    1.251112         -0.099681  1.015253 -0.019456 -0.056244   \n",
       "3 -0.206702    1.251112         -0.099681 -0.984977 -0.019456 -0.056244   \n",
       "4 -0.799491    1.251112         -0.099681 -0.984977 -0.019456 -0.056244   \n",
       "\n",
       "     Petrol    Manual         5        >5  \n",
       "0 -0.974099  0.496825  0.443384 -0.423776  \n",
       "1 -0.974099 -2.012782  0.443384 -0.423776  \n",
       "2 -0.974099  0.496825  0.443384 -0.423776  \n",
       "3  1.026590  0.496825  0.443384 -0.423776  \n",
       "4  1.026590  0.496825  0.443384 -0.423776  "
      ]
     },
     "execution_count": 32,
     "metadata": {},
     "output_type": "execute_result"
    }
   ],
   "source": [
    "# Incorporated w0\n",
    "X_train_new = pd.concat([x0, X_train], axis=1)\n",
    "X_train_new.head()"
   ]
  },
  {
   "cell_type": "code",
   "execution_count": 33,
   "id": "809305c7-1e54-4a3f-a93c-4bf7dc81a38f",
   "metadata": {},
   "outputs": [],
   "source": [
    "W_best, error_list = gradient_descent(X_train_new, y_train)"
   ]
  },
  {
   "cell_type": "code",
   "execution_count": 34,
   "id": "a15a14dc-864f-4608-a1de-29811c3e5f76",
   "metadata": {},
   "outputs": [
    {
     "data": {
      "text/plain": [
       "(18,)"
      ]
     },
     "execution_count": 34,
     "metadata": {},
     "output_type": "execute_result"
    }
   ],
   "source": [
    "W_best.shape"
   ]
  },
  {
   "cell_type": "code",
   "execution_count": 35,
   "id": "0d56ef31-1ae1-465a-910f-ac5ee8db1991",
   "metadata": {},
   "outputs": [
    {
     "data": {
      "text/plain": [
       "[<matplotlib.lines.Line2D at 0x11d70b670>]"
      ]
     },
     "execution_count": 35,
     "metadata": {},
     "output_type": "execute_result"
    },
    {
     "data": {
      "image/png": "[encoded data removed]",
      "text/plain": [
       "<Figure size 640x480 with 1 Axes>"
      ]
     },
     "metadata": {},
     "output_type": "display_data"
    }
   ],
   "source": [
    "plt.plot(error_list)"
   ]
  },
  {
   "cell_type": "code",
   "execution_count": 36,
   "id": "0dfb68dc-572f-488f-a89c-cdc77de1c83d",
   "metadata": {},
   "outputs": [
    {
     "data": {
      "text/plain": [
       "[np.float64(1.2969758331157244),\n",
       " np.float64(1.2964127295898058),\n",
       " np.float64(1.2958695761536871),\n",
       " np.float64(1.2953454847794008),\n",
       " np.float64(1.2948396112302099)]"
      ]
     },
     "execution_count": 36,
     "metadata": {},
     "output_type": "execute_result"
    }
   ],
   "source": [
    "error_list[-5:]"
   ]
  },
  {
   "cell_type": "code",
   "execution_count": 37,
   "id": "442d8658-79bf-4902-bd8d-1603b8f119f0",
   "metadata": {},
   "outputs": [
    {
     "data": {
      "text/plain": [
       "array([ 3.89028739, 11.03731761,  6.9122269 ,  6.04799592,  2.18559102,\n",
       "        7.4773329 ,  4.89233757,  6.05963037, -0.79712812,  2.39602398])"
      ]
     },
     "execution_count": 37,
     "metadata": {},
     "output_type": "execute_result"
    }
   ],
   "source": [
    "y_train_pred = predict(X_train_new, W_best)\n",
    "y_train_pred[:10]"
   ]
  },
  {
   "cell_type": "code",
   "execution_count": 38,
   "id": "b2d94131-9be0-485e-9ebf-e1700dd8fd6e",
   "metadata": {},
   "outputs": [
    {
     "data": {
      "text/plain": [
       "np.float64(0.9445091379110855)"
      ]
     },
     "execution_count": 38,
     "metadata": {},
     "output_type": "execute_result"
    }
   ],
   "source": [
    "r2_score(y_train, y_train_pred)"
   ]
  },
  {
   "cell_type": "code",
   "execution_count": 40,
   "id": "6b55c09c-30e4-4f94-824f-0ec2a99b7276",
   "metadata": {},
   "outputs": [
    {
     "data": {
      "text/plain": [
       "np.float64(0.9444495758037795)"
      ]
     },
     "execution_count": 40,
     "metadata": {},
     "output_type": "execute_result"
    }
   ],
   "source": [
    "# Adjusted R2 Score\n",
    "n,d = X_train.shape\n",
    "\n",
    "r2 = r2_score(y_train, y_train_pred)\n",
    "\n",
    "adj_r2 = 1 - ((1-r2)*(n-1)/(n-d-1))\n",
    "adj_r2"
   ]
  },
  {
   "cell_type": "markdown",
   "id": "f64c0d48-7a09-48e6-909d-46187013c4a0",
   "metadata": {},
   "source": [
    "# Statsmodel"
   ]
  },
  {
   "cell_type": "code",
   "execution_count": 43,
   "id": "1d9252a5-c50f-43f2-8a34-2da243ff4922",
   "metadata": {},
   "outputs": [],
   "source": [
    "X=df.drop('selling_price', axis=1)\n",
    "y=df[['selling_price']]"
   ]
  },
  {
   "cell_type": "code",
   "execution_count": 42,
   "id": "25559f9a-f472-4f7f-ae16-b5dd81e8aa23",
   "metadata": {},
   "outputs": [
    {
     "data": {
      "text/plain": [
       "0    1.20\n",
       "1    5.50\n",
       "2    2.15\n",
       "3    2.26\n",
       "4    5.70\n",
       "Name: selling_price, dtype: float64"
      ]
     },
     "execution_count": 42,
     "metadata": {},
     "output_type": "execute_result"
    }
   ],
   "source": [
    "y.head()"
   ]
  },
  {
   "cell_type": "code",
   "execution_count": 44,
   "id": "36e56cc2-9985-484c-a469-c20906d24a8f",
   "metadata": {},
   "outputs": [],
   "source": [
    "from sklearn.model_selection import train_test_split\n",
    "\n",
    "X_train, X_test, y_train, y_test = train_test_split(X, y, test_size=0.2, random_state=2)\n",
    "y_train = np.array(y_train)"
   ]
  },
  {
   "cell_type": "code",
   "execution_count": 45,
   "id": "48a66773-2b71-4731-ae15-33fdc04afb71",
   "metadata": {},
   "outputs": [
    {
     "data": {
      "text/html": [
       "<div>\n",
       "<style scoped>\n",
       "    .dataframe tbody tr th:only-of-type {\n",
       "        vertical-align: middle;\n",
       "    }\n",
       "\n",
       "    .dataframe tbody tr th {\n",
       "        vertical-align: top;\n",
       "    }\n",
       "\n",
       "    .dataframe thead th {\n",
       "        text-align: right;\n",
       "    }\n",
       "</style>\n",
       "<table border=\"1\" class=\"dataframe\">\n",
       "  <thead>\n",
       "    <tr style=\"text-align: right;\">\n",
       "      <th></th>\n",
       "      <th>year</th>\n",
       "      <th>km_driven</th>\n",
       "      <th>mileage</th>\n",
       "      <th>engine</th>\n",
       "      <th>max_power</th>\n",
       "      <th>age</th>\n",
       "      <th>make</th>\n",
       "      <th>model</th>\n",
       "      <th>Individual</th>\n",
       "      <th>Trustmark Dealer</th>\n",
       "      <th>Diesel</th>\n",
       "      <th>Electric</th>\n",
       "      <th>LPG</th>\n",
       "      <th>Petrol</th>\n",
       "      <th>Manual</th>\n",
       "      <th>5</th>\n",
       "      <th>&gt;5</th>\n",
       "    </tr>\n",
       "  </thead>\n",
       "  <tbody>\n",
       "    <tr>\n",
       "      <th>3443</th>\n",
       "      <td>2013.0</td>\n",
       "      <td>67000</td>\n",
       "      <td>15.60</td>\n",
       "      <td>1497.0</td>\n",
       "      <td>116.30</td>\n",
       "      <td>10.0</td>\n",
       "      <td>5.979902</td>\n",
       "      <td>4.364286</td>\n",
       "      <td>0</td>\n",
       "      <td>0</td>\n",
       "      <td>0</td>\n",
       "      <td>0</td>\n",
       "      <td>0</td>\n",
       "      <td>1</td>\n",
       "      <td>0</td>\n",
       "      <td>1</td>\n",
       "      <td>0</td>\n",
       "    </tr>\n",
       "    <tr>\n",
       "      <th>16090</th>\n",
       "      <td>2017.0</td>\n",
       "      <td>35000</td>\n",
       "      <td>20.51</td>\n",
       "      <td>998.0</td>\n",
       "      <td>67.04</td>\n",
       "      <td>6.0</td>\n",
       "      <td>4.684721</td>\n",
       "      <td>3.808235</td>\n",
       "      <td>1</td>\n",
       "      <td>0</td>\n",
       "      <td>0</td>\n",
       "      <td>0</td>\n",
       "      <td>0</td>\n",
       "      <td>1</td>\n",
       "      <td>1</td>\n",
       "      <td>1</td>\n",
       "      <td>0</td>\n",
       "    </tr>\n",
       "    <tr>\n",
       "      <th>11070</th>\n",
       "      <td>2016.0</td>\n",
       "      <td>130000</td>\n",
       "      <td>21.58</td>\n",
       "      <td>1248.0</td>\n",
       "      <td>88.70</td>\n",
       "      <td>7.0</td>\n",
       "      <td>4.381194</td>\n",
       "      <td>4.450000</td>\n",
       "      <td>1</td>\n",
       "      <td>0</td>\n",
       "      <td>1</td>\n",
       "      <td>0</td>\n",
       "      <td>0</td>\n",
       "      <td>0</td>\n",
       "      <td>0</td>\n",
       "      <td>1</td>\n",
       "      <td>0</td>\n",
       "    </tr>\n",
       "    <tr>\n",
       "      <th>19214</th>\n",
       "      <td>2018.0</td>\n",
       "      <td>43266</td>\n",
       "      <td>18.16</td>\n",
       "      <td>1196.0</td>\n",
       "      <td>86.80</td>\n",
       "      <td>5.0</td>\n",
       "      <td>5.858258</td>\n",
       "      <td>5.105000</td>\n",
       "      <td>0</td>\n",
       "      <td>0</td>\n",
       "      <td>0</td>\n",
       "      <td>0</td>\n",
       "      <td>0</td>\n",
       "      <td>1</td>\n",
       "      <td>1</td>\n",
       "      <td>1</td>\n",
       "      <td>0</td>\n",
       "    </tr>\n",
       "    <tr>\n",
       "      <th>17843</th>\n",
       "      <td>2011.0</td>\n",
       "      <td>48000</td>\n",
       "      <td>16.20</td>\n",
       "      <td>1493.0</td>\n",
       "      <td>110.00</td>\n",
       "      <td>12.0</td>\n",
       "      <td>5.458819</td>\n",
       "      <td>3.250000</td>\n",
       "      <td>1</td>\n",
       "      <td>0</td>\n",
       "      <td>1</td>\n",
       "      <td>0</td>\n",
       "      <td>0</td>\n",
       "      <td>0</td>\n",
       "      <td>1</td>\n",
       "      <td>1</td>\n",
       "      <td>0</td>\n",
       "    </tr>\n",
       "  </tbody>\n",
       "</table>\n",
       "</div>"
      ],
      "text/plain": [
       "         year  km_driven  mileage  engine  max_power   age      make  \\\n",
       "3443   2013.0      67000    15.60  1497.0     116.30  10.0  5.979902   \n",
       "16090  2017.0      35000    20.51   998.0      67.04   6.0  4.684721   \n",
       "11070  2016.0     130000    21.58  1248.0      88.70   7.0  4.381194   \n",
       "19214  2018.0      43266    18.16  1196.0      86.80   5.0  5.858258   \n",
       "17843  2011.0      48000    16.20  1493.0     110.00  12.0  5.458819   \n",
       "\n",
       "          model  Individual  Trustmark Dealer  Diesel  Electric  LPG  Petrol  \\\n",
       "3443   4.364286           0                 0       0         0    0       1   \n",
       "16090  3.808235           1                 0       0         0    0       1   \n",
       "11070  4.450000           1                 0       1         0    0       0   \n",
       "19214  5.105000           0                 0       0         0    0       1   \n",
       "17843  3.250000           1                 0       1         0    0       0   \n",
       "\n",
       "       Manual  5  >5  \n",
       "3443        0  1   0  \n",
       "16090       1  1   0  \n",
       "11070       0  1   0  \n",
       "19214       1  1   0  \n",
       "17843       1  1   0  "
      ]
     },
     "execution_count": 45,
     "metadata": {},
     "output_type": "execute_result"
    }
   ],
   "source": [
    "X_train.head()"
   ]
  },
  {
   "cell_type": "code",
   "execution_count": 48,
   "id": "43e5b9b0-b282-4b6c-b0d4-2d6cd6bc5da7",
   "metadata": {},
   "outputs": [],
   "source": [
    "import statsmodels.api as sm"
   ]
  },
  {
   "cell_type": "code",
   "execution_count": 50,
   "id": "73f08fff-56ce-4d7b-8fc0-c5cb3fca87c6",
   "metadata": {},
   "outputs": [
    {
     "name": "stdout",
     "output_type": "stream",
     "text": [
      "                            OLS Regression Results                            \n",
      "==============================================================================\n",
      "Dep. Variable:                      y   R-squared:                       0.945\n",
      "Model:                            OLS   Adj. R-squared:                  0.945\n",
      "Method:                 Least Squares   F-statistic:                 1.701e+04\n",
      "Date:                Wed, 27 Aug 2025   Prob (F-statistic):               0.00\n",
      "Time:                        21:12:36   Log-Likelihood:                -24523.\n",
      "No. Observations:               15856   AIC:                         4.908e+04\n",
      "Df Residuals:                   15839   BIC:                         4.921e+04\n",
      "Df Model:                          16                                         \n",
      "Covariance Type:            nonrobust                                         \n",
      "====================================================================================\n",
      "                       coef    std err          t      P>|t|      [0.025      0.975]\n",
      "------------------------------------------------------------------------------------\n",
      "const             -8.84e-05    1.9e-06    -46.524      0.000   -9.21e-05   -8.47e-05\n",
      "year                 0.0015   8.92e-05     16.357      0.000       0.001       0.002\n",
      "km_driven        -1.487e-06   1.82e-07     -8.150      0.000   -1.84e-06   -1.13e-06\n",
      "mileage             -0.0442      0.004    -11.846      0.000      -0.051      -0.037\n",
      "engine               0.0002   4.37e-05      4.547      0.000       0.000       0.000\n",
      "max_power            0.0019      0.000      4.114      0.000       0.001       0.003\n",
      "age                 -0.1803      0.004    -46.512      0.000      -0.188      -0.173\n",
      "make                 0.0688      0.005     15.187      0.000       0.060       0.078\n",
      "model                0.8602      0.005    179.756      0.000       0.851       0.870\n",
      "Individual          -0.1406      0.019     -7.290      0.000      -0.178      -0.103\n",
      "Trustmark Dealer    -0.1252      0.092     -1.359      0.174      -0.306       0.055\n",
      "Diesel               0.1145      0.075      1.526      0.127      -0.033       0.262\n",
      "Electric             2.9648      0.476      6.222      0.000       2.031       3.899\n",
      "LPG                  0.2877      0.173      1.658      0.097      -0.052       0.628\n",
      "Petrol              -0.1737      0.077     -2.249      0.025      -0.325      -0.022\n",
      "Manual              -0.0914      0.030     -3.007      0.003      -0.151      -0.032\n",
      "5                   -0.2927      0.083     -3.532      0.000      -0.455      -0.130\n",
      ">5                  -0.4830      0.090     -5.361      0.000      -0.660      -0.306\n",
      "==============================================================================\n",
      "Omnibus:                     3218.068   Durbin-Watson:                   2.002\n",
      "Prob(Omnibus):                  0.000   Jarque-Bera (JB):            80809.770\n",
      "Skew:                           0.347   Prob(JB):                         0.00\n",
      "Kurtosis:                      14.038   Cond. No.                     1.58e+21\n",
      "==============================================================================\n",
      "\n",
      "Notes:\n",
      "[1] Standard Errors assume that the covariance matrix of the errors is correctly specified.\n",
      "[2] The smallest eigenvalue is 4.05e-29. This might indicate that there are\n",
      "strong multicollinearity problems or that the design matrix is singular.\n"
     ]
    }
   ],
   "source": [
    "X_sm = sm.add_constant(X_train)   # Statmodels default is without intercept, to add intercept we need to add constant.\n",
    "\n",
    "model = sm.OLS(y_train, X_sm)\n",
    "results = model.fit()\n",
    "\n",
    "# statistical summary\n",
    "print(results.summary())"
   ]
  },
  {
   "cell_type": "code",
   "execution_count": 51,
   "id": "844e0989-6c6f-4057-82c4-d5081a9d995f",
   "metadata": {},
   "outputs": [
    {
     "data": {
      "text/plain": [
       "3443      4.556349\n",
       "16090     4.124025\n",
       "11070     4.754339\n",
       "19214     5.810158\n",
       "17843     3.243950\n",
       "           ...    \n",
       "1099     18.137057\n",
       "18898     4.712612\n",
       "11798     8.700178\n",
       "6637     17.853014\n",
       "2575      6.261600\n",
       "Length: 15856, dtype: float64"
      ]
     },
     "execution_count": 51,
     "metadata": {},
     "output_type": "execute_result"
    }
   ],
   "source": [
    "results.predict(X_sm)"
   ]
  },
  {
   "cell_type": "markdown",
   "id": "194144cf-dc10-4a50-aa12-64c35fe9c778",
   "metadata": {},
   "source": [
    "# Assumptions"
   ]
  },
  {
   "cell_type": "markdown",
   "id": "94109c68-2795-4e96-9559-0d1b571889de",
   "metadata": {},
   "source": [
    "## Multicollinearity"
   ]
  },
  {
   "cell_type": "code",
   "execution_count": 52,
   "id": "754f55ae-dd47-41e5-bc15-659726a7c461",
   "metadata": {},
   "outputs": [
    {
     "data": {
      "text/html": [
       "<div>\n",
       "<style scoped>\n",
       "    .dataframe tbody tr th:only-of-type {\n",
       "        vertical-align: middle;\n",
       "    }\n",
       "\n",
       "    .dataframe tbody tr th {\n",
       "        vertical-align: top;\n",
       "    }\n",
       "\n",
       "    .dataframe thead th {\n",
       "        text-align: right;\n",
       "    }\n",
       "</style>\n",
       "<table border=\"1\" class=\"dataframe\">\n",
       "  <thead>\n",
       "    <tr style=\"text-align: right;\">\n",
       "      <th></th>\n",
       "      <th>Features</th>\n",
       "      <th>VIF</th>\n",
       "    </tr>\n",
       "  </thead>\n",
       "  <tbody>\n",
       "    <tr>\n",
       "      <th>0</th>\n",
       "      <td>year</td>\n",
       "      <td>395.89</td>\n",
       "    </tr>\n",
       "    <tr>\n",
       "      <th>13</th>\n",
       "      <td>Petrol</td>\n",
       "      <td>18.29</td>\n",
       "    </tr>\n",
       "    <tr>\n",
       "      <th>10</th>\n",
       "      <td>Diesel</td>\n",
       "      <td>17.29</td>\n",
       "    </tr>\n",
       "    <tr>\n",
       "      <th>5</th>\n",
       "      <td>age</td>\n",
       "      <td>15.03</td>\n",
       "    </tr>\n",
       "    <tr>\n",
       "      <th>16</th>\n",
       "      <td>&gt;5</td>\n",
       "      <td>13.04</td>\n",
       "    </tr>\n",
       "    <tr>\n",
       "      <th>15</th>\n",
       "      <td>5</td>\n",
       "      <td>11.75</td>\n",
       "    </tr>\n",
       "    <tr>\n",
       "      <th>3</th>\n",
       "      <td>engine</td>\n",
       "      <td>6.30</td>\n",
       "    </tr>\n",
       "    <tr>\n",
       "      <th>7</th>\n",
       "      <td>model</td>\n",
       "      <td>6.16</td>\n",
       "    </tr>\n",
       "    <tr>\n",
       "      <th>4</th>\n",
       "      <td>max_power</td>\n",
       "      <td>5.02</td>\n",
       "    </tr>\n",
       "    <tr>\n",
       "      <th>6</th>\n",
       "      <td>make</td>\n",
       "      <td>3.33</td>\n",
       "    </tr>\n",
       "    <tr>\n",
       "      <th>2</th>\n",
       "      <td>mileage</td>\n",
       "      <td>3.24</td>\n",
       "    </tr>\n",
       "    <tr>\n",
       "      <th>14</th>\n",
       "      <td>Manual</td>\n",
       "      <td>1.79</td>\n",
       "    </tr>\n",
       "    <tr>\n",
       "      <th>12</th>\n",
       "      <td>LPG</td>\n",
       "      <td>1.25</td>\n",
       "    </tr>\n",
       "    <tr>\n",
       "      <th>11</th>\n",
       "      <td>Electric</td>\n",
       "      <td>1.23</td>\n",
       "    </tr>\n",
       "    <tr>\n",
       "      <th>1</th>\n",
       "      <td>km_driven</td>\n",
       "      <td>1.21</td>\n",
       "    </tr>\n",
       "    <tr>\n",
       "      <th>8</th>\n",
       "      <td>Individual</td>\n",
       "      <td>1.09</td>\n",
       "    </tr>\n",
       "    <tr>\n",
       "      <th>9</th>\n",
       "      <td>Trustmark Dealer</td>\n",
       "      <td>1.02</td>\n",
       "    </tr>\n",
       "  </tbody>\n",
       "</table>\n",
       "</div>"
      ],
      "text/plain": [
       "            Features     VIF\n",
       "0               year  395.89\n",
       "13            Petrol   18.29\n",
       "10            Diesel   17.29\n",
       "5                age   15.03\n",
       "16                >5   13.04\n",
       "15                 5   11.75\n",
       "3             engine    6.30\n",
       "7              model    6.16\n",
       "4          max_power    5.02\n",
       "6               make    3.33\n",
       "2            mileage    3.24\n",
       "14            Manual    1.79\n",
       "12               LPG    1.25\n",
       "11          Electric    1.23\n",
       "1          km_driven    1.21\n",
       "8         Individual    1.09\n",
       "9   Trustmark Dealer    1.02"
      ]
     },
     "execution_count": 52,
     "metadata": {},
     "output_type": "execute_result"
    }
   ],
   "source": [
    "from statsmodels.stats.outliers_influence import variance_inflation_factor\n",
    "\n",
    "vif = pd.DataFrame()\n",
    "X_t = pd.DataFrame(X_train, columns=X_train.columns)\n",
    "vif['Features'] = X_t.columns\n",
    "vif['VIF'] = [variance_inflation_factor(X_t.values, i) for i in range(X_t.shape[1])]\n",
    "vif['VIF'] = round(vif['VIF'], 2)\n",
    "vif = vif.sort_values(by = \"VIF\", ascending = False)\n",
    "vif"
   ]
  },
  {
   "cell_type": "code",
   "execution_count": 55,
   "id": "5d5996bc-a246-456f-96e2-c0dd39d1a33c",
   "metadata": {},
   "outputs": [
    {
     "name": "stdout",
     "output_type": "stream",
     "text": [
      "                            OLS Regression Results                            \n",
      "==============================================================================\n",
      "Dep. Variable:                      y   R-squared:                       0.945\n",
      "Model:                            OLS   Adj. R-squared:                  0.945\n",
      "Method:                 Least Squares   F-statistic:                 1.701e+04\n",
      "Date:                Sun, 31 Aug 2025   Prob (F-statistic):               0.00\n",
      "Time:                        00:26:47   Log-Likelihood:                -24523.\n",
      "No. Observations:               15856   AIC:                         4.908e+04\n",
      "Df Residuals:                   15839   BIC:                         4.921e+04\n",
      "Df Model:                          16                                         \n",
      "Covariance Type:            nonrobust                                         \n",
      "====================================================================================\n",
      "                       coef    std err          t      P>|t|      [0.025      0.975]\n",
      "------------------------------------------------------------------------------------\n",
      "const                2.9505      0.180     16.357      0.000       2.597       3.304\n",
      "km_driven        -1.487e-06   1.82e-07     -8.150      0.000   -1.84e-06   -1.13e-06\n",
      "mileage             -0.0442      0.004    -11.846      0.000      -0.051      -0.037\n",
      "engine               0.0002   4.37e-05      4.547      0.000       0.000       0.000\n",
      "max_power            0.0019      0.000      4.114      0.000       0.001       0.003\n",
      "age                 -0.1818      0.004    -46.479      0.000      -0.189      -0.174\n",
      "make                 0.0688      0.005     15.187      0.000       0.060       0.078\n",
      "model                0.8602      0.005    179.756      0.000       0.851       0.870\n",
      "Individual          -0.1406      0.019     -7.290      0.000      -0.178      -0.103\n",
      "Trustmark Dealer    -0.1252      0.092     -1.359      0.174      -0.306       0.055\n",
      "Diesel               0.1145      0.075      1.526      0.127      -0.033       0.262\n",
      "Electric             2.9648      0.476      6.222      0.000       2.031       3.899\n",
      "LPG                  0.2877      0.173      1.658      0.097      -0.052       0.628\n",
      "Petrol              -0.1737      0.077     -2.249      0.025      -0.325      -0.022\n",
      "Manual              -0.0914      0.030     -3.007      0.003      -0.151      -0.032\n",
      "5                   -0.2927      0.083     -3.532      0.000      -0.455      -0.130\n",
      ">5                  -0.4830      0.090     -5.361      0.000      -0.660      -0.306\n",
      "==============================================================================\n",
      "Omnibus:                     3218.068   Durbin-Watson:                   2.002\n",
      "Prob(Omnibus):                  0.000   Jarque-Bera (JB):            80809.770\n",
      "Skew:                           0.347   Prob(JB):                         0.00\n",
      "Kurtosis:                      14.038   Cond. No.                     4.23e+06\n",
      "==============================================================================\n",
      "\n",
      "Notes:\n",
      "[1] Standard Errors assume that the covariance matrix of the errors is correctly specified.\n",
      "[2] The condition number is large, 4.23e+06. This might indicate that there are\n",
      "strong multicollinearity or other numerical problems.\n"
     ]
    }
   ],
   "source": [
    "X_t.drop(columns=['year'], inplace=True)\n",
    "\n",
    "X2_sm = sm.add_constant(X_t)  #Statmodels default is without intercept, to add intercept we need to add constant\n",
    "sm_model = sm.OLS(list(y_train), X2_sm).fit()\n",
    "print(sm_model.summary())"
   ]
  },
  {
   "cell_type": "code",
   "execution_count": 57,
   "id": "b5656912-e175-4c92-a935-bfeab18f7c03",
   "metadata": {},
   "outputs": [
    {
     "data": {
      "text/html": [
       "<div>\n",
       "<style scoped>\n",
       "    .dataframe tbody tr th:only-of-type {\n",
       "        vertical-align: middle;\n",
       "    }\n",
       "\n",
       "    .dataframe tbody tr th {\n",
       "        vertical-align: top;\n",
       "    }\n",
       "\n",
       "    .dataframe thead th {\n",
       "        text-align: right;\n",
       "    }\n",
       "</style>\n",
       "<table border=\"1\" class=\"dataframe\">\n",
       "  <thead>\n",
       "    <tr style=\"text-align: right;\">\n",
       "      <th></th>\n",
       "      <th>Features</th>\n",
       "      <th>VIF</th>\n",
       "    </tr>\n",
       "  </thead>\n",
       "  <tbody>\n",
       "    <tr>\n",
       "      <th>14</th>\n",
       "      <td>5</td>\n",
       "      <td>51.79</td>\n",
       "    </tr>\n",
       "    <tr>\n",
       "      <th>2</th>\n",
       "      <td>engine</td>\n",
       "      <td>50.07</td>\n",
       "    </tr>\n",
       "    <tr>\n",
       "      <th>1</th>\n",
       "      <td>mileage</td>\n",
       "      <td>29.88</td>\n",
       "    </tr>\n",
       "    <tr>\n",
       "      <th>9</th>\n",
       "      <td>Diesel</td>\n",
       "      <td>29.25</td>\n",
       "    </tr>\n",
       "    <tr>\n",
       "      <th>3</th>\n",
       "      <td>max_power</td>\n",
       "      <td>29.03</td>\n",
       "    </tr>\n",
       "    <tr>\n",
       "      <th>12</th>\n",
       "      <td>Petrol</td>\n",
       "      <td>24.59</td>\n",
       "    </tr>\n",
       "    <tr>\n",
       "      <th>6</th>\n",
       "      <td>model</td>\n",
       "      <td>17.83</td>\n",
       "    </tr>\n",
       "    <tr>\n",
       "      <th>5</th>\n",
       "      <td>make</td>\n",
       "      <td>14.24</td>\n",
       "    </tr>\n",
       "    <tr>\n",
       "      <th>4</th>\n",
       "      <td>age</td>\n",
       "      <td>12.94</td>\n",
       "    </tr>\n",
       "    <tr>\n",
       "      <th>15</th>\n",
       "      <td>&gt;5</td>\n",
       "      <td>11.17</td>\n",
       "    </tr>\n",
       "    <tr>\n",
       "      <th>13</th>\n",
       "      <td>Manual</td>\n",
       "      <td>8.81</td>\n",
       "    </tr>\n",
       "    <tr>\n",
       "      <th>0</th>\n",
       "      <td>km_driven</td>\n",
       "      <td>2.60</td>\n",
       "    </tr>\n",
       "    <tr>\n",
       "      <th>7</th>\n",
       "      <td>Individual</td>\n",
       "      <td>1.79</td>\n",
       "    </tr>\n",
       "    <tr>\n",
       "      <th>11</th>\n",
       "      <td>LPG</td>\n",
       "      <td>1.18</td>\n",
       "    </tr>\n",
       "    <tr>\n",
       "      <th>10</th>\n",
       "      <td>Electric</td>\n",
       "      <td>1.17</td>\n",
       "    </tr>\n",
       "    <tr>\n",
       "      <th>8</th>\n",
       "      <td>Trustmark Dealer</td>\n",
       "      <td>1.03</td>\n",
       "    </tr>\n",
       "  </tbody>\n",
       "</table>\n",
       "</div>"
      ],
      "text/plain": [
       "            Features    VIF\n",
       "14                 5  51.79\n",
       "2             engine  50.07\n",
       "1            mileage  29.88\n",
       "9             Diesel  29.25\n",
       "3          max_power  29.03\n",
       "12            Petrol  24.59\n",
       "6              model  17.83\n",
       "5               make  14.24\n",
       "4                age  12.94\n",
       "15                >5  11.17\n",
       "13            Manual   8.81\n",
       "0          km_driven   2.60\n",
       "7         Individual   1.79\n",
       "11               LPG   1.18\n",
       "10          Electric   1.17\n",
       "8   Trustmark Dealer   1.03"
      ]
     },
     "execution_count": 57,
     "metadata": {},
     "output_type": "execute_result"
    }
   ],
   "source": [
    "vif = pd.DataFrame()\n",
    "vif['Features'] = X_t.columns\n",
    "vif['VIF'] = [variance_inflation_factor(X_t.values, i) for i in range(X_t.shape[1])]\n",
    "vif['VIF'] = round(vif['VIF'], 2)\n",
    "vif = vif.sort_values(by = \"VIF\", ascending = False)\n",
    "vif"
   ]
  },
  {
   "cell_type": "code",
   "execution_count": 58,
   "id": "840ce701-a282-4b61-97fc-c52298e5e1d3",
   "metadata": {},
   "outputs": [],
   "source": [
    "X_t.drop(columns=['5'], inplace=True)"
   ]
  },
  {
   "cell_type": "code",
   "execution_count": 59,
   "id": "dbbe57a1-d18e-4254-aa69-c4e54f2f9f95",
   "metadata": {},
   "outputs": [
    {
     "data": {
      "text/html": [
       "<div>\n",
       "<style scoped>\n",
       "    .dataframe tbody tr th:only-of-type {\n",
       "        vertical-align: middle;\n",
       "    }\n",
       "\n",
       "    .dataframe tbody tr th {\n",
       "        vertical-align: top;\n",
       "    }\n",
       "\n",
       "    .dataframe thead th {\n",
       "        text-align: right;\n",
       "    }\n",
       "</style>\n",
       "<table border=\"1\" class=\"dataframe\">\n",
       "  <thead>\n",
       "    <tr style=\"text-align: right;\">\n",
       "      <th></th>\n",
       "      <th>Features</th>\n",
       "      <th>VIF</th>\n",
       "    </tr>\n",
       "  </thead>\n",
       "  <tbody>\n",
       "    <tr>\n",
       "      <th>2</th>\n",
       "      <td>engine</td>\n",
       "      <td>47.75</td>\n",
       "    </tr>\n",
       "    <tr>\n",
       "      <th>3</th>\n",
       "      <td>max_power</td>\n",
       "      <td>28.80</td>\n",
       "    </tr>\n",
       "    <tr>\n",
       "      <th>9</th>\n",
       "      <td>Diesel</td>\n",
       "      <td>26.08</td>\n",
       "    </tr>\n",
       "    <tr>\n",
       "      <th>1</th>\n",
       "      <td>mileage</td>\n",
       "      <td>22.07</td>\n",
       "    </tr>\n",
       "    <tr>\n",
       "      <th>12</th>\n",
       "      <td>Petrol</td>\n",
       "      <td>19.62</td>\n",
       "    </tr>\n",
       "    <tr>\n",
       "      <th>6</th>\n",
       "      <td>model</td>\n",
       "      <td>17.61</td>\n",
       "    </tr>\n",
       "    <tr>\n",
       "      <th>5</th>\n",
       "      <td>make</td>\n",
       "      <td>14.23</td>\n",
       "    </tr>\n",
       "    <tr>\n",
       "      <th>4</th>\n",
       "      <td>age</td>\n",
       "      <td>12.70</td>\n",
       "    </tr>\n",
       "    <tr>\n",
       "      <th>13</th>\n",
       "      <td>Manual</td>\n",
       "      <td>8.65</td>\n",
       "    </tr>\n",
       "    <tr>\n",
       "      <th>0</th>\n",
       "      <td>km_driven</td>\n",
       "      <td>2.60</td>\n",
       "    </tr>\n",
       "    <tr>\n",
       "      <th>14</th>\n",
       "      <td>&gt;5</td>\n",
       "      <td>2.22</td>\n",
       "    </tr>\n",
       "    <tr>\n",
       "      <th>7</th>\n",
       "      <td>Individual</td>\n",
       "      <td>1.79</td>\n",
       "    </tr>\n",
       "    <tr>\n",
       "      <th>10</th>\n",
       "      <td>Electric</td>\n",
       "      <td>1.15</td>\n",
       "    </tr>\n",
       "    <tr>\n",
       "      <th>11</th>\n",
       "      <td>LPG</td>\n",
       "      <td>1.14</td>\n",
       "    </tr>\n",
       "    <tr>\n",
       "      <th>8</th>\n",
       "      <td>Trustmark Dealer</td>\n",
       "      <td>1.03</td>\n",
       "    </tr>\n",
       "  </tbody>\n",
       "</table>\n",
       "</div>"
      ],
      "text/plain": [
       "            Features    VIF\n",
       "2             engine  47.75\n",
       "3          max_power  28.80\n",
       "9             Diesel  26.08\n",
       "1            mileage  22.07\n",
       "12            Petrol  19.62\n",
       "6              model  17.61\n",
       "5               make  14.23\n",
       "4                age  12.70\n",
       "13            Manual   8.65\n",
       "0          km_driven   2.60\n",
       "14                >5   2.22\n",
       "7         Individual   1.79\n",
       "10          Electric   1.15\n",
       "11               LPG   1.14\n",
       "8   Trustmark Dealer   1.03"
      ]
     },
     "execution_count": 59,
     "metadata": {},
     "output_type": "execute_result"
    }
   ],
   "source": [
    "vif = pd.DataFrame()\n",
    "\n",
    "vif['Features'] = X_t.columns\n",
    "vif['VIF'] = [variance_inflation_factor(X_t.values, i) for i in range(X_t.shape[1])]\n",
    "vif['VIF'] = round(vif['VIF'], 2)\n",
    "vif = vif.sort_values(by = \"VIF\", ascending = False)\n",
    "vif"
   ]
  },
  {
   "cell_type": "code",
   "execution_count": 60,
   "id": "72680cb8-7016-4a36-8ae5-1a43e8fd5e77",
   "metadata": {},
   "outputs": [],
   "source": [
    "X_t.drop(columns=['engine'], inplace=True)"
   ]
  },
  {
   "cell_type": "code",
   "execution_count": 61,
   "id": "cc282bc0-ad91-4010-9fd2-7131e2f26a9e",
   "metadata": {},
   "outputs": [
    {
     "data": {
      "text/html": [
       "<div>\n",
       "<style scoped>\n",
       "    .dataframe tbody tr th:only-of-type {\n",
       "        vertical-align: middle;\n",
       "    }\n",
       "\n",
       "    .dataframe tbody tr th {\n",
       "        vertical-align: top;\n",
       "    }\n",
       "\n",
       "    .dataframe thead th {\n",
       "        text-align: right;\n",
       "    }\n",
       "</style>\n",
       "<table border=\"1\" class=\"dataframe\">\n",
       "  <thead>\n",
       "    <tr style=\"text-align: right;\">\n",
       "      <th></th>\n",
       "      <th>Features</th>\n",
       "      <th>VIF</th>\n",
       "    </tr>\n",
       "  </thead>\n",
       "  <tbody>\n",
       "    <tr>\n",
       "      <th>8</th>\n",
       "      <td>Diesel</td>\n",
       "      <td>23.39</td>\n",
       "    </tr>\n",
       "    <tr>\n",
       "      <th>1</th>\n",
       "      <td>mileage</td>\n",
       "      <td>21.55</td>\n",
       "    </tr>\n",
       "    <tr>\n",
       "      <th>2</th>\n",
       "      <td>max_power</td>\n",
       "      <td>18.36</td>\n",
       "    </tr>\n",
       "    <tr>\n",
       "      <th>11</th>\n",
       "      <td>Petrol</td>\n",
       "      <td>18.33</td>\n",
       "    </tr>\n",
       "    <tr>\n",
       "      <th>5</th>\n",
       "      <td>model</td>\n",
       "      <td>17.44</td>\n",
       "    </tr>\n",
       "    <tr>\n",
       "      <th>4</th>\n",
       "      <td>make</td>\n",
       "      <td>14.06</td>\n",
       "    </tr>\n",
       "    <tr>\n",
       "      <th>3</th>\n",
       "      <td>age</td>\n",
       "      <td>11.96</td>\n",
       "    </tr>\n",
       "    <tr>\n",
       "      <th>12</th>\n",
       "      <td>Manual</td>\n",
       "      <td>8.47</td>\n",
       "    </tr>\n",
       "    <tr>\n",
       "      <th>0</th>\n",
       "      <td>km_driven</td>\n",
       "      <td>2.57</td>\n",
       "    </tr>\n",
       "    <tr>\n",
       "      <th>6</th>\n",
       "      <td>Individual</td>\n",
       "      <td>1.78</td>\n",
       "    </tr>\n",
       "    <tr>\n",
       "      <th>13</th>\n",
       "      <td>&gt;5</td>\n",
       "      <td>1.69</td>\n",
       "    </tr>\n",
       "    <tr>\n",
       "      <th>9</th>\n",
       "      <td>Electric</td>\n",
       "      <td>1.14</td>\n",
       "    </tr>\n",
       "    <tr>\n",
       "      <th>10</th>\n",
       "      <td>LPG</td>\n",
       "      <td>1.13</td>\n",
       "    </tr>\n",
       "    <tr>\n",
       "      <th>7</th>\n",
       "      <td>Trustmark Dealer</td>\n",
       "      <td>1.03</td>\n",
       "    </tr>\n",
       "  </tbody>\n",
       "</table>\n",
       "</div>"
      ],
      "text/plain": [
       "            Features    VIF\n",
       "8             Diesel  23.39\n",
       "1            mileage  21.55\n",
       "2          max_power  18.36\n",
       "11            Petrol  18.33\n",
       "5              model  17.44\n",
       "4               make  14.06\n",
       "3                age  11.96\n",
       "12            Manual   8.47\n",
       "0          km_driven   2.57\n",
       "6         Individual   1.78\n",
       "13                >5   1.69\n",
       "9           Electric   1.14\n",
       "10               LPG   1.13\n",
       "7   Trustmark Dealer   1.03"
      ]
     },
     "execution_count": 61,
     "metadata": {},
     "output_type": "execute_result"
    }
   ],
   "source": [
    "vif = pd.DataFrame()\n",
    "\n",
    "vif['Features'] = X_t.columns\n",
    "vif['VIF'] = [variance_inflation_factor(X_t.values, i) for i in range(X_t.shape[1])]\n",
    "vif['VIF'] = round(vif['VIF'], 2)\n",
    "vif = vif.sort_values(by = \"VIF\", ascending = False)\n",
    "vif"
   ]
  },
  {
   "cell_type": "code",
   "execution_count": 62,
   "id": "00435889-697e-4fe1-8ae9-d674aef29820",
   "metadata": {},
   "outputs": [],
   "source": [
    "X_t.drop(columns=['Diesel'], inplace=True)"
   ]
  },
  {
   "cell_type": "code",
   "execution_count": 63,
   "id": "6638bc9b-6b84-4d80-a9fe-b8d5372b71e8",
   "metadata": {},
   "outputs": [
    {
     "data": {
      "text/html": [
       "<div>\n",
       "<style scoped>\n",
       "    .dataframe tbody tr th:only-of-type {\n",
       "        vertical-align: middle;\n",
       "    }\n",
       "\n",
       "    .dataframe tbody tr th {\n",
       "        vertical-align: top;\n",
       "    }\n",
       "\n",
       "    .dataframe thead th {\n",
       "        text-align: right;\n",
       "    }\n",
       "</style>\n",
       "<table border=\"1\" class=\"dataframe\">\n",
       "  <thead>\n",
       "    <tr style=\"text-align: right;\">\n",
       "      <th></th>\n",
       "      <th>Features</th>\n",
       "      <th>VIF</th>\n",
       "    </tr>\n",
       "  </thead>\n",
       "  <tbody>\n",
       "    <tr>\n",
       "      <th>2</th>\n",
       "      <td>max_power</td>\n",
       "      <td>17.68</td>\n",
       "    </tr>\n",
       "    <tr>\n",
       "      <th>5</th>\n",
       "      <td>model</td>\n",
       "      <td>16.74</td>\n",
       "    </tr>\n",
       "    <tr>\n",
       "      <th>4</th>\n",
       "      <td>make</td>\n",
       "      <td>14.05</td>\n",
       "    </tr>\n",
       "    <tr>\n",
       "      <th>1</th>\n",
       "      <td>mileage</td>\n",
       "      <td>13.27</td>\n",
       "    </tr>\n",
       "    <tr>\n",
       "      <th>3</th>\n",
       "      <td>age</td>\n",
       "      <td>10.56</td>\n",
       "    </tr>\n",
       "    <tr>\n",
       "      <th>11</th>\n",
       "      <td>Manual</td>\n",
       "      <td>8.14</td>\n",
       "    </tr>\n",
       "    <tr>\n",
       "      <th>0</th>\n",
       "      <td>km_driven</td>\n",
       "      <td>2.56</td>\n",
       "    </tr>\n",
       "    <tr>\n",
       "      <th>10</th>\n",
       "      <td>Petrol</td>\n",
       "      <td>2.17</td>\n",
       "    </tr>\n",
       "    <tr>\n",
       "      <th>6</th>\n",
       "      <td>Individual</td>\n",
       "      <td>1.76</td>\n",
       "    </tr>\n",
       "    <tr>\n",
       "      <th>12</th>\n",
       "      <td>&gt;5</td>\n",
       "      <td>1.64</td>\n",
       "    </tr>\n",
       "    <tr>\n",
       "      <th>8</th>\n",
       "      <td>Electric</td>\n",
       "      <td>1.06</td>\n",
       "    </tr>\n",
       "    <tr>\n",
       "      <th>7</th>\n",
       "      <td>Trustmark Dealer</td>\n",
       "      <td>1.03</td>\n",
       "    </tr>\n",
       "    <tr>\n",
       "      <th>9</th>\n",
       "      <td>LPG</td>\n",
       "      <td>1.02</td>\n",
       "    </tr>\n",
       "  </tbody>\n",
       "</table>\n",
       "</div>"
      ],
      "text/plain": [
       "            Features    VIF\n",
       "2          max_power  17.68\n",
       "5              model  16.74\n",
       "4               make  14.05\n",
       "1            mileage  13.27\n",
       "3                age  10.56\n",
       "11            Manual   8.14\n",
       "0          km_driven   2.56\n",
       "10            Petrol   2.17\n",
       "6         Individual   1.76\n",
       "12                >5   1.64\n",
       "8           Electric   1.06\n",
       "7   Trustmark Dealer   1.03\n",
       "9                LPG   1.02"
      ]
     },
     "execution_count": 63,
     "metadata": {},
     "output_type": "execute_result"
    }
   ],
   "source": [
    "vif = pd.DataFrame()\n",
    "\n",
    "vif['Features'] = X_t.columns\n",
    "vif['VIF'] = [variance_inflation_factor(X_t.values, i) for i in range(X_t.shape[1])]\n",
    "vif['VIF'] = round(vif['VIF'], 2)\n",
    "vif = vif.sort_values(by = \"VIF\", ascending = False)\n",
    "vif"
   ]
  },
  {
   "cell_type": "code",
   "execution_count": 65,
   "id": "ab17f547-a029-4a84-a20a-f3c1877be210",
   "metadata": {},
   "outputs": [
    {
     "data": {
      "text/plain": [
       "0.9448675810554413"
      ]
     },
     "execution_count": 65,
     "metadata": {},
     "output_type": "execute_result"
    }
   ],
   "source": [
    "from sklearn.linear_model import LinearRegression\n",
    "\n",
    "model = LinearRegression()\n",
    "model.fit(X_t, y_train)\n",
    "\n",
    "model.score(X_t, y_train)"
   ]
  },
  {
   "cell_type": "code",
   "execution_count": 66,
   "id": "b673721b-2c4f-4daa-bf08-d5df4ac603a9",
   "metadata": {},
   "outputs": [],
   "source": [
    "# We observe that the R2 score doesn't change much and VIF is suggesting to drop important features like max_power. \n",
    "# We'll stop here. VIF gives an idea about multicollinear features but shouldn't be trusted blindly while dropping features."
   ]
  },
  {
   "cell_type": "markdown",
   "id": "138403b3-b16c-4418-8fb8-4f380dc2bdff",
   "metadata": {},
   "source": [
    "## Normality of Residuals"
   ]
  },
  {
   "cell_type": "code",
   "execution_count": 68,
   "id": "6c1ac056-8ba6-41ee-8873-4b2b4d01515f",
   "metadata": {},
   "outputs": [],
   "source": [
    "y_hat = model.predict(X_t)\n",
    "errs = y_train - y_hat"
   ]
  },
  {
   "cell_type": "code",
   "execution_count": 70,
   "id": "94b98f88-8f8b-4342-9c61-44d37ba85d27",
   "metadata": {},
   "outputs": [
    {
     "data": {
      "text/plain": [
       "<Axes: ylabel='Count'>"
      ]
     },
     "execution_count": 70,
     "metadata": {},
     "output_type": "execute_result"
    },
    {
     "data": {
      "image/png": "[encoded data removed]",
      "text/plain": [
       "<Figure size 640x480 with 1 Axes>"
      ]
     },
     "metadata": {},
     "output_type": "display_data"
    }
   ],
   "source": [
    "import seaborn as sns\n",
    "sns.histplot(errs)"
   ]
  },
  {
   "cell_type": "code",
   "execution_count": 71,
   "id": "01696c79-c2a9-4930-b822-4253ce09c502",
   "metadata": {},
   "outputs": [
    {
     "data": {
      "text/plain": [
       "np.float64(0.890054203504088)"
      ]
     },
     "execution_count": 71,
     "metadata": {},
     "output_type": "execute_result"
    }
   ],
   "source": [
    "from scipy import stats\n",
    "res = stats.shapiro(errs) # Shapiro–Wilk test to check normality (In the range 0-1)\n",
    "res.statistic"
   ]
  },
  {
   "cell_type": "markdown",
   "id": "723ac8aa-fda2-4dba-8386-948338ab993e",
   "metadata": {},
   "source": [
    "## Heteroskedasticity"
   ]
  },
  {
   "cell_type": "code",
   "execution_count": 72,
   "id": "ebe054e9-5087-44ff-8565-639653f4e307",
   "metadata": {},
   "outputs": [
    {
     "data": {
      "text/plain": [
       "Text(0, 0.5, 'Residuals')"
      ]
     },
     "execution_count": 72,
     "metadata": {},
     "output_type": "execute_result"
    },
    {
     "data": {
      "image/png": "[encoded data removed]",
      "text/plain": [
       "<Figure size 640x480 with 1 Axes>"
      ]
     },
     "metadata": {},
     "output_type": "display_data"
    }
   ],
   "source": [
    "sns.scatterplot(x = y_train.reshape(-1,), y = errs.reshape(-1,));\n",
    "plt.xlabel(\"actual Selling price\")\n",
    "plt.ylabel(\"Residuals\")"
   ]
  },
  {
   "cell_type": "code",
   "execution_count": 73,
   "id": "d43ed0ea-0aff-44c7-87d0-50284449be7a",
   "metadata": {},
   "outputs": [],
   "source": [
    "# No heteroskedasticity is observed"
   ]
  },
  {
   "cell_type": "code",
   "execution_count": null,
   "id": "96a58313-7df0-452e-b968-54aa3d954393",
   "metadata": {},
   "outputs": [],
   "source": []
  }
 ],
 "metadata": {
  "kernelspec": {
   "display_name": "Python 3 (ipykernel)",
   "language": "python",
   "name": "python3"
  },
  "language_info": {
   "codemirror_mode": {
    "name": "ipython",
    "version": 3
   },
   "file_extension": ".py",
   "mimetype": "text/x-python",
   "name": "python",
   "nbconvert_exporter": "python",
   "pygments_lexer": "ipython3",
   "version": "3.10.2"
  }
 },
 "nbformat": 4,
 "nbformat_minor": 5
}
