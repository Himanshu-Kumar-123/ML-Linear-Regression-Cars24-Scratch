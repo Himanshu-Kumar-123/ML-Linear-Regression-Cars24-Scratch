{
 "cells": [
  {
   "cell_type": "code",
   "execution_count": 1,
   "id": "74a8921f-d29f-473a-8c16-6df7b836742f",
   "metadata": {},
   "outputs": [],
   "source": [
    "import numpy as np\n",
    "import pandas as pd\n",
    "import matplotlib.pyplot as plt"
   ]
  },
  {
   "cell_type": "code",
   "execution_count": 2,
   "id": "e559eb4c-ecf9-46c5-a0a6-1f87e14b13d4",
   "metadata": {},
   "outputs": [],
   "source": [
    "import warnings\n",
    "warnings.filterwarnings(\"ignore\")"
   ]
  },
  {
   "cell_type": "code",
   "execution_count": 3,
   "id": "a9feed05-899d-49a9-9b33-9a0f674ecb19",
   "metadata": {},
   "outputs": [],
   "source": [
    "df = pd.read_csv(\"cars24-car-price-cleaned.csv\")"
   ]
  },
  {
   "cell_type": "code",
   "execution_count": 4,
   "id": "a7bbd071-d61d-4743-89b5-633d24e060db",
   "metadata": {},
   "outputs": [
    {
     "data": {
      "text/html": [
       "<div>\n",
       "<style scoped>\n",
       "    .dataframe tbody tr th:only-of-type {\n",
       "        vertical-align: middle;\n",
       "    }\n",
       "\n",
       "    .dataframe tbody tr th {\n",
       "        vertical-align: top;\n",
       "    }\n",
       "\n",
       "    .dataframe thead th {\n",
       "        text-align: right;\n",
       "    }\n",
       "</style>\n",
       "<table border=\"1\" class=\"dataframe\">\n",
       "  <thead>\n",
       "    <tr style=\"text-align: right;\">\n",
       "      <th></th>\n",
       "      <th>selling_price</th>\n",
       "      <th>year</th>\n",
       "      <th>km_driven</th>\n",
       "      <th>mileage</th>\n",
       "      <th>engine</th>\n",
       "      <th>max_power</th>\n",
       "      <th>age</th>\n",
       "      <th>make</th>\n",
       "      <th>model</th>\n",
       "      <th>Individual</th>\n",
       "      <th>Trustmark Dealer</th>\n",
       "      <th>Diesel</th>\n",
       "      <th>Electric</th>\n",
       "      <th>LPG</th>\n",
       "      <th>Petrol</th>\n",
       "      <th>Manual</th>\n",
       "      <th>5</th>\n",
       "      <th>&gt;5</th>\n",
       "    </tr>\n",
       "  </thead>\n",
       "  <tbody>\n",
       "    <tr>\n",
       "      <th>0</th>\n",
       "      <td>1.20</td>\n",
       "      <td>2012.0</td>\n",
       "      <td>120000</td>\n",
       "      <td>19.70</td>\n",
       "      <td>796.0</td>\n",
       "      <td>46.30</td>\n",
       "      <td>11.0</td>\n",
       "      <td>MARUTI</td>\n",
       "      <td>ALTO STD</td>\n",
       "      <td>1</td>\n",
       "      <td>0</td>\n",
       "      <td>0</td>\n",
       "      <td>0</td>\n",
       "      <td>0</td>\n",
       "      <td>1</td>\n",
       "      <td>1</td>\n",
       "      <td>1</td>\n",
       "      <td>0</td>\n",
       "    </tr>\n",
       "    <tr>\n",
       "      <th>1</th>\n",
       "      <td>5.50</td>\n",
       "      <td>2016.0</td>\n",
       "      <td>20000</td>\n",
       "      <td>18.90</td>\n",
       "      <td>1197.0</td>\n",
       "      <td>82.00</td>\n",
       "      <td>7.0</td>\n",
       "      <td>HYUNDAI</td>\n",
       "      <td>GRAND I10 ASTA</td>\n",
       "      <td>1</td>\n",
       "      <td>0</td>\n",
       "      <td>0</td>\n",
       "      <td>0</td>\n",
       "      <td>0</td>\n",
       "      <td>1</td>\n",
       "      <td>1</td>\n",
       "      <td>1</td>\n",
       "      <td>0</td>\n",
       "    </tr>\n",
       "    <tr>\n",
       "      <th>2</th>\n",
       "      <td>2.15</td>\n",
       "      <td>2010.0</td>\n",
       "      <td>60000</td>\n",
       "      <td>17.00</td>\n",
       "      <td>1197.0</td>\n",
       "      <td>80.00</td>\n",
       "      <td>13.0</td>\n",
       "      <td>HYUNDAI</td>\n",
       "      <td>I20 ASTA</td>\n",
       "      <td>1</td>\n",
       "      <td>0</td>\n",
       "      <td>0</td>\n",
       "      <td>0</td>\n",
       "      <td>0</td>\n",
       "      <td>1</td>\n",
       "      <td>1</td>\n",
       "      <td>1</td>\n",
       "      <td>0</td>\n",
       "    </tr>\n",
       "    <tr>\n",
       "      <th>3</th>\n",
       "      <td>2.26</td>\n",
       "      <td>2012.0</td>\n",
       "      <td>37000</td>\n",
       "      <td>20.92</td>\n",
       "      <td>998.0</td>\n",
       "      <td>67.10</td>\n",
       "      <td>11.0</td>\n",
       "      <td>MARUTI</td>\n",
       "      <td>ALTO K10 2010-2014 VXI</td>\n",
       "      <td>1</td>\n",
       "      <td>0</td>\n",
       "      <td>0</td>\n",
       "      <td>0</td>\n",
       "      <td>0</td>\n",
       "      <td>1</td>\n",
       "      <td>1</td>\n",
       "      <td>1</td>\n",
       "      <td>0</td>\n",
       "    </tr>\n",
       "    <tr>\n",
       "      <th>4</th>\n",
       "      <td>5.70</td>\n",
       "      <td>2015.0</td>\n",
       "      <td>30000</td>\n",
       "      <td>22.77</td>\n",
       "      <td>1498.0</td>\n",
       "      <td>98.59</td>\n",
       "      <td>8.0</td>\n",
       "      <td>FORD</td>\n",
       "      <td>ECOSPORT 2015-2021 1.5 TDCI TITANIUM BSIV</td>\n",
       "      <td>0</td>\n",
       "      <td>0</td>\n",
       "      <td>1</td>\n",
       "      <td>0</td>\n",
       "      <td>0</td>\n",
       "      <td>0</td>\n",
       "      <td>1</td>\n",
       "      <td>1</td>\n",
       "      <td>0</td>\n",
       "    </tr>\n",
       "  </tbody>\n",
       "</table>\n",
       "</div>"
      ],
      "text/plain": [
       "   selling_price    year  km_driven  mileage  engine  max_power   age  \\\n",
       "0           1.20  2012.0     120000    19.70   796.0      46.30  11.0   \n",
       "1           5.50  2016.0      20000    18.90  1197.0      82.00   7.0   \n",
       "2           2.15  2010.0      60000    17.00  1197.0      80.00  13.0   \n",
       "3           2.26  2012.0      37000    20.92   998.0      67.10  11.0   \n",
       "4           5.70  2015.0      30000    22.77  1498.0      98.59   8.0   \n",
       "\n",
       "      make                                      model  Individual  \\\n",
       "0   MARUTI                                   ALTO STD           1   \n",
       "1  HYUNDAI                             GRAND I10 ASTA           1   \n",
       "2  HYUNDAI                                   I20 ASTA           1   \n",
       "3   MARUTI                     ALTO K10 2010-2014 VXI           1   \n",
       "4     FORD  ECOSPORT 2015-2021 1.5 TDCI TITANIUM BSIV           0   \n",
       "\n",
       "   Trustmark Dealer  Diesel  Electric  LPG  Petrol  Manual  5  >5  \n",
       "0                 0       0         0    0       1       1  1   0  \n",
       "1                 0       0         0    0       1       1  1   0  \n",
       "2                 0       0         0    0       1       1  1   0  \n",
       "3                 0       0         0    0       1       1  1   0  \n",
       "4                 0       1         0    0       0       1  1   0  "
      ]
     },
     "execution_count": 4,
     "metadata": {},
     "output_type": "execute_result"
    }
   ],
   "source": [
    "df.head()"
   ]
  },
  {
   "cell_type": "code",
   "execution_count": 5,
   "id": "23bc84ef-f0e6-4b5f-8f57-84f2f21a87be",
   "metadata": {},
   "outputs": [
    {
     "data": {
      "text/plain": [
       "(19820, 18)"
      ]
     },
     "execution_count": 5,
     "metadata": {},
     "output_type": "execute_result"
    }
   ],
   "source": [
    "df.shape"
   ]
  },
  {
   "cell_type": "code",
   "execution_count": 6,
   "id": "af25ea18-db4e-4646-bda7-372e3eae3dd5",
   "metadata": {},
   "outputs": [
    {
     "data": {
      "text/plain": [
       "(41, 3233)"
      ]
     },
     "execution_count": 6,
     "metadata": {},
     "output_type": "execute_result"
    }
   ],
   "source": [
    "df['make'].nunique(), df['model'].nunique()"
   ]
  },
  {
   "cell_type": "code",
   "execution_count": 7,
   "id": "32ff5eea-1a8a-4738-860a-e3291123b96f",
   "metadata": {},
   "outputs": [],
   "source": [
    "df['make'] = df.groupby('make')['selling_price'].transform('mean')\n",
    "df['model'] = df.groupby('model')['selling_price'].transform('mean')"
   ]
  },
  {
   "cell_type": "code",
   "execution_count": 8,
   "id": "93cb9b2c-27e0-4ecc-9349-6ecd20f9e849",
   "metadata": {},
   "outputs": [
    {
     "data": {
      "text/html": [
       "<div>\n",
       "<style scoped>\n",
       "    .dataframe tbody tr th:only-of-type {\n",
       "        vertical-align: middle;\n",
       "    }\n",
       "\n",
       "    .dataframe tbody tr th {\n",
       "        vertical-align: top;\n",
       "    }\n",
       "\n",
       "    .dataframe thead th {\n",
       "        text-align: right;\n",
       "    }\n",
       "</style>\n",
       "<table border=\"1\" class=\"dataframe\">\n",
       "  <thead>\n",
       "    <tr style=\"text-align: right;\">\n",
       "      <th></th>\n",
       "      <th>selling_price</th>\n",
       "      <th>year</th>\n",
       "      <th>km_driven</th>\n",
       "      <th>mileage</th>\n",
       "      <th>engine</th>\n",
       "      <th>max_power</th>\n",
       "      <th>age</th>\n",
       "      <th>make</th>\n",
       "      <th>model</th>\n",
       "      <th>Individual</th>\n",
       "      <th>Trustmark Dealer</th>\n",
       "      <th>Diesel</th>\n",
       "      <th>Electric</th>\n",
       "      <th>LPG</th>\n",
       "      <th>Petrol</th>\n",
       "      <th>Manual</th>\n",
       "      <th>5</th>\n",
       "      <th>&gt;5</th>\n",
       "    </tr>\n",
       "  </thead>\n",
       "  <tbody>\n",
       "    <tr>\n",
       "      <th>0</th>\n",
       "      <td>1.20</td>\n",
       "      <td>2012.0</td>\n",
       "      <td>120000</td>\n",
       "      <td>19.70</td>\n",
       "      <td>796.0</td>\n",
       "      <td>46.30</td>\n",
       "      <td>11.0</td>\n",
       "      <td>4.684721</td>\n",
       "      <td>1.180000</td>\n",
       "      <td>1</td>\n",
       "      <td>0</td>\n",
       "      <td>0</td>\n",
       "      <td>0</td>\n",
       "      <td>0</td>\n",
       "      <td>1</td>\n",
       "      <td>1</td>\n",
       "      <td>1</td>\n",
       "      <td>0</td>\n",
       "    </tr>\n",
       "    <tr>\n",
       "      <th>1</th>\n",
       "      <td>5.50</td>\n",
       "      <td>2016.0</td>\n",
       "      <td>20000</td>\n",
       "      <td>18.90</td>\n",
       "      <td>1197.0</td>\n",
       "      <td>82.00</td>\n",
       "      <td>7.0</td>\n",
       "      <td>5.458819</td>\n",
       "      <td>4.818750</td>\n",
       "      <td>1</td>\n",
       "      <td>0</td>\n",
       "      <td>0</td>\n",
       "      <td>0</td>\n",
       "      <td>0</td>\n",
       "      <td>1</td>\n",
       "      <td>1</td>\n",
       "      <td>1</td>\n",
       "      <td>0</td>\n",
       "    </tr>\n",
       "    <tr>\n",
       "      <th>2</th>\n",
       "      <td>2.15</td>\n",
       "      <td>2010.0</td>\n",
       "      <td>60000</td>\n",
       "      <td>17.00</td>\n",
       "      <td>1197.0</td>\n",
       "      <td>80.00</td>\n",
       "      <td>13.0</td>\n",
       "      <td>5.458819</td>\n",
       "      <td>3.394000</td>\n",
       "      <td>1</td>\n",
       "      <td>0</td>\n",
       "      <td>0</td>\n",
       "      <td>0</td>\n",
       "      <td>0</td>\n",
       "      <td>1</td>\n",
       "      <td>1</td>\n",
       "      <td>1</td>\n",
       "      <td>0</td>\n",
       "    </tr>\n",
       "    <tr>\n",
       "      <th>3</th>\n",
       "      <td>2.26</td>\n",
       "      <td>2012.0</td>\n",
       "      <td>37000</td>\n",
       "      <td>20.92</td>\n",
       "      <td>998.0</td>\n",
       "      <td>67.10</td>\n",
       "      <td>11.0</td>\n",
       "      <td>4.684721</td>\n",
       "      <td>2.242676</td>\n",
       "      <td>1</td>\n",
       "      <td>0</td>\n",
       "      <td>0</td>\n",
       "      <td>0</td>\n",
       "      <td>0</td>\n",
       "      <td>1</td>\n",
       "      <td>1</td>\n",
       "      <td>1</td>\n",
       "      <td>0</td>\n",
       "    </tr>\n",
       "    <tr>\n",
       "      <th>4</th>\n",
       "      <td>5.70</td>\n",
       "      <td>2015.0</td>\n",
       "      <td>30000</td>\n",
       "      <td>22.77</td>\n",
       "      <td>1498.0</td>\n",
       "      <td>98.59</td>\n",
       "      <td>8.0</td>\n",
       "      <td>5.858258</td>\n",
       "      <td>6.777576</td>\n",
       "      <td>0</td>\n",
       "      <td>0</td>\n",
       "      <td>1</td>\n",
       "      <td>0</td>\n",
       "      <td>0</td>\n",
       "      <td>0</td>\n",
       "      <td>1</td>\n",
       "      <td>1</td>\n",
       "      <td>0</td>\n",
       "    </tr>\n",
       "  </tbody>\n",
       "</table>\n",
       "</div>"
      ],
      "text/plain": [
       "   selling_price    year  km_driven  mileage  engine  max_power   age  \\\n",
       "0           1.20  2012.0     120000    19.70   796.0      46.30  11.0   \n",
       "1           5.50  2016.0      20000    18.90  1197.0      82.00   7.0   \n",
       "2           2.15  2010.0      60000    17.00  1197.0      80.00  13.0   \n",
       "3           2.26  2012.0      37000    20.92   998.0      67.10  11.0   \n",
       "4           5.70  2015.0      30000    22.77  1498.0      98.59   8.0   \n",
       "\n",
       "       make     model  Individual  Trustmark Dealer  Diesel  Electric  LPG  \\\n",
       "0  4.684721  1.180000           1                 0       0         0    0   \n",
       "1  5.458819  4.818750           1                 0       0         0    0   \n",
       "2  5.458819  3.394000           1                 0       0         0    0   \n",
       "3  4.684721  2.242676           1                 0       0         0    0   \n",
       "4  5.858258  6.777576           0                 0       1         0    0   \n",
       "\n",
       "   Petrol  Manual  5  >5  \n",
       "0       1       1  1   0  \n",
       "1       1       1  1   0  \n",
       "2       1       1  1   0  \n",
       "3       1       1  1   0  \n",
       "4       0       1  1   0  "
      ]
     },
     "execution_count": 8,
     "metadata": {},
     "output_type": "execute_result"
    }
   ],
   "source": [
    "df.head()"
   ]
  },
  {
   "cell_type": "code",
   "execution_count": 9,
   "id": "d63303f4-de89-4b78-abf7-6dde682dc3d2",
   "metadata": {},
   "outputs": [],
   "source": [
    "X = df.drop(\"selling_price\", axis=1)\n",
    "y = df[\"selling_price\"]"
   ]
  },
  {
   "cell_type": "code",
   "execution_count": 10,
   "id": "3d06ab8e-213f-4a87-b090-d6b2ecf596b6",
   "metadata": {},
   "outputs": [
    {
     "data": {
      "text/html": [
       "<div>\n",
       "<style scoped>\n",
       "    .dataframe tbody tr th:only-of-type {\n",
       "        vertical-align: middle;\n",
       "    }\n",
       "\n",
       "    .dataframe tbody tr th {\n",
       "        vertical-align: top;\n",
       "    }\n",
       "\n",
       "    .dataframe thead th {\n",
       "        text-align: right;\n",
       "    }\n",
       "</style>\n",
       "<table border=\"1\" class=\"dataframe\">\n",
       "  <thead>\n",
       "    <tr style=\"text-align: right;\">\n",
       "      <th></th>\n",
       "      <th>year</th>\n",
       "      <th>km_driven</th>\n",
       "      <th>mileage</th>\n",
       "      <th>engine</th>\n",
       "      <th>max_power</th>\n",
       "      <th>age</th>\n",
       "      <th>make</th>\n",
       "      <th>model</th>\n",
       "      <th>Individual</th>\n",
       "      <th>Trustmark Dealer</th>\n",
       "      <th>Diesel</th>\n",
       "      <th>Electric</th>\n",
       "      <th>LPG</th>\n",
       "      <th>Petrol</th>\n",
       "      <th>Manual</th>\n",
       "      <th>5</th>\n",
       "      <th>&gt;5</th>\n",
       "    </tr>\n",
       "  </thead>\n",
       "  <tbody>\n",
       "    <tr>\n",
       "      <th>0</th>\n",
       "      <td>2012.0</td>\n",
       "      <td>120000</td>\n",
       "      <td>19.70</td>\n",
       "      <td>796.0</td>\n",
       "      <td>46.30</td>\n",
       "      <td>11.0</td>\n",
       "      <td>4.684721</td>\n",
       "      <td>1.180000</td>\n",
       "      <td>1</td>\n",
       "      <td>0</td>\n",
       "      <td>0</td>\n",
       "      <td>0</td>\n",
       "      <td>0</td>\n",
       "      <td>1</td>\n",
       "      <td>1</td>\n",
       "      <td>1</td>\n",
       "      <td>0</td>\n",
       "    </tr>\n",
       "    <tr>\n",
       "      <th>1</th>\n",
       "      <td>2016.0</td>\n",
       "      <td>20000</td>\n",
       "      <td>18.90</td>\n",
       "      <td>1197.0</td>\n",
       "      <td>82.00</td>\n",
       "      <td>7.0</td>\n",
       "      <td>5.458819</td>\n",
       "      <td>4.818750</td>\n",
       "      <td>1</td>\n",
       "      <td>0</td>\n",
       "      <td>0</td>\n",
       "      <td>0</td>\n",
       "      <td>0</td>\n",
       "      <td>1</td>\n",
       "      <td>1</td>\n",
       "      <td>1</td>\n",
       "      <td>0</td>\n",
       "    </tr>\n",
       "    <tr>\n",
       "      <th>2</th>\n",
       "      <td>2010.0</td>\n",
       "      <td>60000</td>\n",
       "      <td>17.00</td>\n",
       "      <td>1197.0</td>\n",
       "      <td>80.00</td>\n",
       "      <td>13.0</td>\n",
       "      <td>5.458819</td>\n",
       "      <td>3.394000</td>\n",
       "      <td>1</td>\n",
       "      <td>0</td>\n",
       "      <td>0</td>\n",
       "      <td>0</td>\n",
       "      <td>0</td>\n",
       "      <td>1</td>\n",
       "      <td>1</td>\n",
       "      <td>1</td>\n",
       "      <td>0</td>\n",
       "    </tr>\n",
       "    <tr>\n",
       "      <th>3</th>\n",
       "      <td>2012.0</td>\n",
       "      <td>37000</td>\n",
       "      <td>20.92</td>\n",
       "      <td>998.0</td>\n",
       "      <td>67.10</td>\n",
       "      <td>11.0</td>\n",
       "      <td>4.684721</td>\n",
       "      <td>2.242676</td>\n",
       "      <td>1</td>\n",
       "      <td>0</td>\n",
       "      <td>0</td>\n",
       "      <td>0</td>\n",
       "      <td>0</td>\n",
       "      <td>1</td>\n",
       "      <td>1</td>\n",
       "      <td>1</td>\n",
       "      <td>0</td>\n",
       "    </tr>\n",
       "    <tr>\n",
       "      <th>4</th>\n",
       "      <td>2015.0</td>\n",
       "      <td>30000</td>\n",
       "      <td>22.77</td>\n",
       "      <td>1498.0</td>\n",
       "      <td>98.59</td>\n",
       "      <td>8.0</td>\n",
       "      <td>5.858258</td>\n",
       "      <td>6.777576</td>\n",
       "      <td>0</td>\n",
       "      <td>0</td>\n",
       "      <td>1</td>\n",
       "      <td>0</td>\n",
       "      <td>0</td>\n",
       "      <td>0</td>\n",
       "      <td>1</td>\n",
       "      <td>1</td>\n",
       "      <td>0</td>\n",
       "    </tr>\n",
       "  </tbody>\n",
       "</table>\n",
       "</div>"
      ],
      "text/plain": [
       "     year  km_driven  mileage  engine  max_power   age      make     model  \\\n",
       "0  2012.0     120000    19.70   796.0      46.30  11.0  4.684721  1.180000   \n",
       "1  2016.0      20000    18.90  1197.0      82.00   7.0  5.458819  4.818750   \n",
       "2  2010.0      60000    17.00  1197.0      80.00  13.0  5.458819  3.394000   \n",
       "3  2012.0      37000    20.92   998.0      67.10  11.0  4.684721  2.242676   \n",
       "4  2015.0      30000    22.77  1498.0      98.59   8.0  5.858258  6.777576   \n",
       "\n",
       "   Individual  Trustmark Dealer  Diesel  Electric  LPG  Petrol  Manual  5  >5  \n",
       "0           1                 0       0         0    0       1       1  1   0  \n",
       "1           1                 0       0         0    0       1       1  1   0  \n",
       "2           1                 0       0         0    0       1       1  1   0  \n",
       "3           1                 0       0         0    0       1       1  1   0  \n",
       "4           0                 0       1         0    0       0       1  1   0  "
      ]
     },
     "execution_count": 10,
     "metadata": {},
     "output_type": "execute_result"
    }
   ],
   "source": [
    "X.head()"
   ]
  },
  {
   "cell_type": "code",
   "execution_count": 11,
   "id": "094afe52-11ae-4df2-b782-3f465af58220",
   "metadata": {},
   "outputs": [
    {
     "data": {
      "text/plain": [
       "0    1.20\n",
       "1    5.50\n",
       "2    2.15\n",
       "3    2.26\n",
       "4    5.70\n",
       "Name: selling_price, dtype: float64"
      ]
     },
     "execution_count": 11,
     "metadata": {},
     "output_type": "execute_result"
    }
   ],
   "source": [
    "y.head()"
   ]
  },
  {
   "cell_type": "code",
   "execution_count": 12,
   "id": "b2808797-95ee-4178-b04f-406c981d9344",
   "metadata": {},
   "outputs": [],
   "source": [
    "from sklearn.model_selection import train_test_split\n",
    "X_train, X_test, y_train, y_test = train_test_split(X, y, test_size=0.2, random_state=42)"
   ]
  },
  {
   "cell_type": "code",
   "execution_count": 13,
   "id": "f5ebdcb1-0cd7-413c-9fcc-c65d393b103b",
   "metadata": {},
   "outputs": [
    {
     "data": {
      "text/plain": [
       "((15856, 17), (3964, 17))"
      ]
     },
     "execution_count": 13,
     "metadata": {},
     "output_type": "execute_result"
    }
   ],
   "source": [
    "X_train.shape, X_test.shape"
   ]
  },
  {
   "cell_type": "code",
   "execution_count": 14,
   "id": "4a891f01-f766-4a7c-a958-471255a94abe",
   "metadata": {},
   "outputs": [
    {
     "data": {
      "text/plain": [
       "(15856,)"
      ]
     },
     "execution_count": 14,
     "metadata": {},
     "output_type": "execute_result"
    }
   ],
   "source": [
    "y_train.shape"
   ]
  },
  {
   "cell_type": "code",
   "execution_count": 15,
   "id": "8e481423-4007-47a8-88b4-3844dcd77846",
   "metadata": {},
   "outputs": [],
   "source": [
    "from sklearn.preprocessing import StandardScaler\n",
    "scaler = StandardScaler()\n",
    "\n",
    "X_new = scaler.fit_transform(X_train)\n",
    "X_train = pd.DataFrame(X_new, columns = X_train.columns)"
   ]
  },
  {
   "cell_type": "code",
   "execution_count": 16,
   "id": "8c5dd70b-f0dd-4aac-9665-b0d0c82a3f7d",
   "metadata": {},
   "outputs": [
    {
     "data": {
      "text/html": [
       "<div>\n",
       "<style scoped>\n",
       "    .dataframe tbody tr th:only-of-type {\n",
       "        vertical-align: middle;\n",
       "    }\n",
       "\n",
       "    .dataframe tbody tr th {\n",
       "        vertical-align: top;\n",
       "    }\n",
       "\n",
       "    .dataframe thead th {\n",
       "        text-align: right;\n",
       "    }\n",
       "</style>\n",
       "<table border=\"1\" class=\"dataframe\">\n",
       "  <thead>\n",
       "    <tr style=\"text-align: right;\">\n",
       "      <th></th>\n",
       "      <th>year</th>\n",
       "      <th>km_driven</th>\n",
       "      <th>mileage</th>\n",
       "      <th>engine</th>\n",
       "      <th>max_power</th>\n",
       "      <th>age</th>\n",
       "      <th>make</th>\n",
       "      <th>model</th>\n",
       "      <th>Individual</th>\n",
       "      <th>Trustmark Dealer</th>\n",
       "      <th>Diesel</th>\n",
       "      <th>Electric</th>\n",
       "      <th>LPG</th>\n",
       "      <th>Petrol</th>\n",
       "      <th>Manual</th>\n",
       "      <th>5</th>\n",
       "      <th>&gt;5</th>\n",
       "    </tr>\n",
       "  </thead>\n",
       "  <tbody>\n",
       "    <tr>\n",
       "      <th>0</th>\n",
       "      <td>-0.489414</td>\n",
       "      <td>0.502456</td>\n",
       "      <td>0.243228</td>\n",
       "      <td>0.240112</td>\n",
       "      <td>0.120997</td>\n",
       "      <td>0.489414</td>\n",
       "      <td>-0.284819</td>\n",
       "      <td>-0.599662</td>\n",
       "      <td>1.251112</td>\n",
       "      <td>-0.099681</td>\n",
       "      <td>1.015253</td>\n",
       "      <td>-0.019456</td>\n",
       "      <td>-0.056244</td>\n",
       "      <td>-0.974099</td>\n",
       "      <td>0.496825</td>\n",
       "      <td>0.443384</td>\n",
       "      <td>-0.423776</td>\n",
       "    </tr>\n",
       "    <tr>\n",
       "      <th>1</th>\n",
       "      <td>-1.429050</td>\n",
       "      <td>0.900732</td>\n",
       "      <td>-0.799809</td>\n",
       "      <td>1.011304</td>\n",
       "      <td>1.854161</td>\n",
       "      <td>1.429050</td>\n",
       "      <td>2.975929</td>\n",
       "      <td>0.929139</td>\n",
       "      <td>-0.799289</td>\n",
       "      <td>-0.099681</td>\n",
       "      <td>1.015253</td>\n",
       "      <td>-0.019456</td>\n",
       "      <td>-0.056244</td>\n",
       "      <td>-0.974099</td>\n",
       "      <td>-2.012782</td>\n",
       "      <td>0.443384</td>\n",
       "      <td>-0.423776</td>\n",
       "    </tr>\n",
       "    <tr>\n",
       "      <th>2</th>\n",
       "      <td>1.076647</td>\n",
       "      <td>0.366270</td>\n",
       "      <td>1.841617</td>\n",
       "      <td>-0.439780</td>\n",
       "      <td>-0.541816</td>\n",
       "      <td>-1.076647</td>\n",
       "      <td>-0.521072</td>\n",
       "      <td>0.064971</td>\n",
       "      <td>1.251112</td>\n",
       "      <td>-0.099681</td>\n",
       "      <td>1.015253</td>\n",
       "      <td>-0.019456</td>\n",
       "      <td>-0.056244</td>\n",
       "      <td>-0.974099</td>\n",
       "      <td>0.496825</td>\n",
       "      <td>0.443384</td>\n",
       "      <td>-0.423776</td>\n",
       "    </tr>\n",
       "    <tr>\n",
       "      <th>3</th>\n",
       "      <td>1.389859</td>\n",
       "      <td>-0.972890</td>\n",
       "      <td>1.013255</td>\n",
       "      <td>-0.534965</td>\n",
       "      <td>-0.317892</td>\n",
       "      <td>-1.389859</td>\n",
       "      <td>-0.604885</td>\n",
       "      <td>-0.206702</td>\n",
       "      <td>1.251112</td>\n",
       "      <td>-0.099681</td>\n",
       "      <td>-0.984977</td>\n",
       "      <td>-0.019456</td>\n",
       "      <td>-0.056244</td>\n",
       "      <td>1.026590</td>\n",
       "      <td>0.496825</td>\n",
       "      <td>0.443384</td>\n",
       "      <td>-0.423776</td>\n",
       "    </tr>\n",
       "    <tr>\n",
       "      <th>4</th>\n",
       "      <td>-2.055474</td>\n",
       "      <td>1.183386</td>\n",
       "      <td>-1.399497</td>\n",
       "      <td>0.630564</td>\n",
       "      <td>0.712154</td>\n",
       "      <td>2.055474</td>\n",
       "      <td>-0.163433</td>\n",
       "      <td>-0.799491</td>\n",
       "      <td>1.251112</td>\n",
       "      <td>-0.099681</td>\n",
       "      <td>-0.984977</td>\n",
       "      <td>-0.019456</td>\n",
       "      <td>-0.056244</td>\n",
       "      <td>1.026590</td>\n",
       "      <td>0.496825</td>\n",
       "      <td>0.443384</td>\n",
       "      <td>-0.423776</td>\n",
       "    </tr>\n",
       "  </tbody>\n",
       "</table>\n",
       "</div>"
      ],
      "text/plain": [
       "       year  km_driven   mileage    engine  max_power       age      make  \\\n",
       "0 -0.489414   0.502456  0.243228  0.240112   0.120997  0.489414 -0.284819   \n",
       "1 -1.429050   0.900732 -0.799809  1.011304   1.854161  1.429050  2.975929   \n",
       "2  1.076647   0.366270  1.841617 -0.439780  -0.541816 -1.076647 -0.521072   \n",
       "3  1.389859  -0.972890  1.013255 -0.534965  -0.317892 -1.389859 -0.604885   \n",
       "4 -2.055474   1.183386 -1.399497  0.630564   0.712154  2.055474 -0.163433   \n",
       "\n",
       "      model  Individual  Trustmark Dealer    Diesel  Electric       LPG  \\\n",
       "0 -0.599662    1.251112         -0.099681  1.015253 -0.019456 -0.056244   \n",
       "1  0.929139   -0.799289         -0.099681  1.015253 -0.019456 -0.056244   \n",
       "2  0.064971    1.251112         -0.099681  1.015253 -0.019456 -0.056244   \n",
       "3 -0.206702    1.251112         -0.099681 -0.984977 -0.019456 -0.056244   \n",
       "4 -0.799491    1.251112         -0.099681 -0.984977 -0.019456 -0.056244   \n",
       "\n",
       "     Petrol    Manual         5        >5  \n",
       "0 -0.974099  0.496825  0.443384 -0.423776  \n",
       "1 -0.974099 -2.012782  0.443384 -0.423776  \n",
       "2 -0.974099  0.496825  0.443384 -0.423776  \n",
       "3  1.026590  0.496825  0.443384 -0.423776  \n",
       "4  1.026590  0.496825  0.443384 -0.423776  "
      ]
     },
     "execution_count": 16,
     "metadata": {},
     "output_type": "execute_result"
    }
   ],
   "source": [
    "X_train.head()"
   ]
  },
  {
   "cell_type": "code",
   "execution_count": 17,
   "id": "a4fa46cc-1d45-4103-af20-6d48dd8f60c2",
   "metadata": {},
   "outputs": [],
   "source": [
    "X_new = scaler.transform(X_test) # only transform. no fit_transform\n",
    "X_test = pd.DataFrame(X_new, columns = X_test.columns)"
   ]
  },
  {
   "cell_type": "code",
   "execution_count": 18,
   "id": "ce6ab165-6a88-4e9f-a032-06aa84950be2",
   "metadata": {},
   "outputs": [
    {
     "data": {
      "text/html": [
       "<div>\n",
       "<style scoped>\n",
       "    .dataframe tbody tr th:only-of-type {\n",
       "        vertical-align: middle;\n",
       "    }\n",
       "\n",
       "    .dataframe tbody tr th {\n",
       "        vertical-align: top;\n",
       "    }\n",
       "\n",
       "    .dataframe thead th {\n",
       "        text-align: right;\n",
       "    }\n",
       "</style>\n",
       "<table border=\"1\" class=\"dataframe\">\n",
       "  <thead>\n",
       "    <tr style=\"text-align: right;\">\n",
       "      <th></th>\n",
       "      <th>year</th>\n",
       "      <th>km_driven</th>\n",
       "      <th>mileage</th>\n",
       "      <th>engine</th>\n",
       "      <th>max_power</th>\n",
       "      <th>age</th>\n",
       "      <th>make</th>\n",
       "      <th>model</th>\n",
       "      <th>Individual</th>\n",
       "      <th>Trustmark Dealer</th>\n",
       "      <th>Diesel</th>\n",
       "      <th>Electric</th>\n",
       "      <th>LPG</th>\n",
       "      <th>Petrol</th>\n",
       "      <th>Manual</th>\n",
       "      <th>5</th>\n",
       "      <th>&gt;5</th>\n",
       "    </tr>\n",
       "  </thead>\n",
       "  <tbody>\n",
       "    <tr>\n",
       "      <th>0</th>\n",
       "      <td>0.763435</td>\n",
       "      <td>0.502456</td>\n",
       "      <td>0.499903</td>\n",
       "      <td>-0.026017</td>\n",
       "      <td>-0.299979</td>\n",
       "      <td>-0.763435</td>\n",
       "      <td>-0.542630</td>\n",
       "      <td>-0.456837</td>\n",
       "      <td>1.251112</td>\n",
       "      <td>-0.099681</td>\n",
       "      <td>1.015253</td>\n",
       "      <td>-0.019456</td>\n",
       "      <td>-0.056244</td>\n",
       "      <td>-0.974099</td>\n",
       "      <td>0.496825</td>\n",
       "      <td>0.443384</td>\n",
       "      <td>-0.423776</td>\n",
       "    </tr>\n",
       "    <tr>\n",
       "      <th>1</th>\n",
       "      <td>0.137011</td>\n",
       "      <td>0.082550</td>\n",
       "      <td>0.149891</td>\n",
       "      <td>0.045857</td>\n",
       "      <td>-0.210409</td>\n",
       "      <td>-0.137011</td>\n",
       "      <td>-0.284819</td>\n",
       "      <td>-0.330968</td>\n",
       "      <td>-0.799289</td>\n",
       "      <td>-0.099681</td>\n",
       "      <td>1.015253</td>\n",
       "      <td>-0.019456</td>\n",
       "      <td>-0.056244</td>\n",
       "      <td>-0.974099</td>\n",
       "      <td>0.496825</td>\n",
       "      <td>0.443384</td>\n",
       "      <td>-0.423776</td>\n",
       "    </tr>\n",
       "    <tr>\n",
       "      <th>2</th>\n",
       "      <td>0.450223</td>\n",
       "      <td>0.307257</td>\n",
       "      <td>1.820617</td>\n",
       "      <td>0.045857</td>\n",
       "      <td>0.009035</td>\n",
       "      <td>-0.450223</td>\n",
       "      <td>-0.163433</td>\n",
       "      <td>-0.206702</td>\n",
       "      <td>-0.799289</td>\n",
       "      <td>-0.099681</td>\n",
       "      <td>1.015253</td>\n",
       "      <td>-0.019456</td>\n",
       "      <td>-0.056244</td>\n",
       "      <td>-0.974099</td>\n",
       "      <td>0.496825</td>\n",
       "      <td>0.443384</td>\n",
       "      <td>-0.423776</td>\n",
       "    </tr>\n",
       "    <tr>\n",
       "      <th>3</th>\n",
       "      <td>0.450223</td>\n",
       "      <td>-0.623074</td>\n",
       "      <td>-0.186121</td>\n",
       "      <td>-0.534965</td>\n",
       "      <td>-0.212649</td>\n",
       "      <td>-0.450223</td>\n",
       "      <td>-0.163433</td>\n",
       "      <td>-0.176406</td>\n",
       "      <td>-0.799289</td>\n",
       "      <td>-0.099681</td>\n",
       "      <td>-0.984977</td>\n",
       "      <td>-0.019456</td>\n",
       "      <td>-0.056244</td>\n",
       "      <td>1.026590</td>\n",
       "      <td>0.496825</td>\n",
       "      <td>0.443384</td>\n",
       "      <td>-0.423776</td>\n",
       "    </tr>\n",
       "    <tr>\n",
       "      <th>4</th>\n",
       "      <td>-0.802626</td>\n",
       "      <td>0.048503</td>\n",
       "      <td>0.331897</td>\n",
       "      <td>-0.925417</td>\n",
       "      <td>-0.696322</td>\n",
       "      <td>0.802626</td>\n",
       "      <td>-0.521072</td>\n",
       "      <td>-0.927358</td>\n",
       "      <td>1.251112</td>\n",
       "      <td>-0.099681</td>\n",
       "      <td>-0.984977</td>\n",
       "      <td>-0.019456</td>\n",
       "      <td>-0.056244</td>\n",
       "      <td>1.026590</td>\n",
       "      <td>0.496825</td>\n",
       "      <td>0.443384</td>\n",
       "      <td>-0.423776</td>\n",
       "    </tr>\n",
       "  </tbody>\n",
       "</table>\n",
       "</div>"
      ],
      "text/plain": [
       "       year  km_driven   mileage    engine  max_power       age      make  \\\n",
       "0  0.763435   0.502456  0.499903 -0.026017  -0.299979 -0.763435 -0.542630   \n",
       "1  0.137011   0.082550  0.149891  0.045857  -0.210409 -0.137011 -0.284819   \n",
       "2  0.450223   0.307257  1.820617  0.045857   0.009035 -0.450223 -0.163433   \n",
       "3  0.450223  -0.623074 -0.186121 -0.534965  -0.212649 -0.450223 -0.163433   \n",
       "4 -0.802626   0.048503  0.331897 -0.925417  -0.696322  0.802626 -0.521072   \n",
       "\n",
       "      model  Individual  Trustmark Dealer    Diesel  Electric       LPG  \\\n",
       "0 -0.456837    1.251112         -0.099681  1.015253 -0.019456 -0.056244   \n",
       "1 -0.330968   -0.799289         -0.099681  1.015253 -0.019456 -0.056244   \n",
       "2 -0.206702   -0.799289         -0.099681  1.015253 -0.019456 -0.056244   \n",
       "3 -0.176406   -0.799289         -0.099681 -0.984977 -0.019456 -0.056244   \n",
       "4 -0.927358    1.251112         -0.099681 -0.984977 -0.019456 -0.056244   \n",
       "\n",
       "     Petrol    Manual         5        >5  \n",
       "0 -0.974099  0.496825  0.443384 -0.423776  \n",
       "1 -0.974099  0.496825  0.443384 -0.423776  \n",
       "2 -0.974099  0.496825  0.443384 -0.423776  \n",
       "3  1.026590  0.496825  0.443384 -0.423776  \n",
       "4  1.026590  0.496825  0.443384 -0.423776  "
      ]
     },
     "execution_count": 18,
     "metadata": {},
     "output_type": "execute_result"
    }
   ],
   "source": [
    "X_test.head()"
   ]
  },
  {
   "cell_type": "code",
   "execution_count": 19,
   "id": "3d45d4b7-c4bc-4e3f-9f22-d8c7919303c3",
   "metadata": {},
   "outputs": [],
   "source": [
    "def predict(X, weights):\n",
    "    \n",
    "    return np.dot(X,weights)"
   ]
  },
  {
   "cell_type": "code",
   "execution_count": 20,
   "id": "653c2c8a-2af3-472d-b385-d3a171a8028f",
   "metadata": {},
   "outputs": [],
   "source": [
    "def loss(X, y, weights):\n",
    "    \n",
    "    y_hat = predict(X, weights)\n",
    "    err = np.mean((y - y_hat)**2)\n",
    "\n",
    "    return err"
   ]
  },
  {
   "cell_type": "code",
   "execution_count": 21,
   "id": "d88c68a0-5c02-475a-87c2-88ddd53efee9",
   "metadata": {},
   "outputs": [],
   "source": [
    "def gradients(X, y, weights):\n",
    "\n",
    "    y_hat = predict(X, weights)\n",
    "    grads = 2*np.dot(X.T, y_hat - y)/len(y)\n",
    "\n",
    "    return grads"
   ]
  },
  {
   "cell_type": "code",
   "execution_count": 22,
   "id": "0da34917-07dc-4c3f-83ca-1380bfb853de",
   "metadata": {},
   "outputs": [],
   "source": [
    "def gradient_descent(X, y, learning_rate=0.1, n_itrs=100):\n",
    "\n",
    "    n, d = X.shape\n",
    "    error_list = []\n",
    "\n",
    "    # Step 1: Initialization\n",
    "    w = np.random.rand(d)\n",
    "\n",
    "    for _ in range(n_itrs):\n",
    "\n",
    "        e = loss(X, y, w)\n",
    "        error_list.append(e)\n",
    "        \n",
    "        # Step 2: Calculate derivatives\n",
    "        dW = gradients(X, y, w)\n",
    "\n",
    "        # Step 3: Update equation\n",
    "        w = w - learning_rate*dW\n",
    "\n",
    "    return w, error_list"
   ]
  },
  {
   "cell_type": "code",
   "execution_count": 23,
   "id": "963a354a-4f2f-4d4d-bb38-3fa9a1b43f8a",
   "metadata": {},
   "outputs": [],
   "source": [
    "def r2_score(y_true, y_pred):\n",
    "    numerator = np.sum((y_true - y_pred)**2)\n",
    "    denominator = np.sum((y_true - y_true.mean())**2)\n",
    "    score = 1 - (numerator/denominator)\n",
    "    return score"
   ]
  },
  {
   "cell_type": "code",
   "execution_count": 24,
   "id": "afff44f5-ff87-4983-b856-c62b287b255b",
   "metadata": {},
   "outputs": [],
   "source": [
    "W_best, error_list = gradient_descent(X_train, y_train)"
   ]
  },
  {
   "cell_type": "code",
   "execution_count": 25,
   "id": "006f089a-0ffb-45d7-aa0d-b6dd28ec528c",
   "metadata": {},
   "outputs": [
    {
     "data": {
      "text/plain": [
       "array([ 1.0956301 , -0.14355373, -0.16215204,  0.09725519,  0.16826614,\n",
       "        0.47785715,  0.36626772,  3.77918439, -0.06508883, -0.01439078,\n",
       "        0.37720483,  0.05673317,  0.05521155,  0.19883263, -0.06766512,\n",
       "        0.04239254,  0.03177403])"
      ]
     },
     "execution_count": 25,
     "metadata": {},
     "output_type": "execute_result"
    }
   ],
   "source": [
    "W_best"
   ]
  },
  {
   "cell_type": "code",
   "execution_count": 26,
   "id": "1cb25820-d86f-4d0f-b47a-e73e12c45b78",
   "metadata": {},
   "outputs": [
    {
     "data": {
      "text/plain": [
       "[np.float64(44.57192742644542),\n",
       " np.float64(44.571241810747445),\n",
       " np.float64(44.57058439411763),\n",
       " np.float64(44.56995387096788),\n",
       " np.float64(44.56934899943191)]"
      ]
     },
     "execution_count": 26,
     "metadata": {},
     "output_type": "execute_result"
    }
   ],
   "source": [
    "error_list[-5:]"
   ]
  },
  {
   "cell_type": "code",
   "execution_count": 27,
   "id": "b39d9755-98ca-4964-901f-5a7cde43f7ac",
   "metadata": {},
   "outputs": [
    {
     "data": {
      "text/plain": [
       "[<matplotlib.lines.Line2D at 0x126060940>]"
      ]
     },
     "execution_count": 27,
     "metadata": {},
     "output_type": "execute_result"
    },
    {
     "data": {
      "image/png": "[encoded data removed]",
      "text/plain": [
       "<Figure size 640x480 with 1 Axes>"
      ]
     },
     "metadata": {},
     "output_type": "display_data"
    }
   ],
   "source": [
    "plt.plot(error_list)"
   ]
  },
  {
   "cell_type": "code",
   "execution_count": 28,
   "id": "3e0d44f0-8cc2-4d00-a491-003177cb1939",
   "metadata": {},
   "outputs": [
    {
     "data": {
      "text/plain": [
       "array([-2.66397694,  4.50933275,  0.3114482 , -0.55416914, -4.39280651,\n",
       "        0.93748418, -1.64806226, -0.53524638, -7.44714091, -4.17683206])"
      ]
     },
     "execution_count": 28,
     "metadata": {},
     "output_type": "execute_result"
    }
   ],
   "source": [
    "y_train_pred = predict(X_train, W_best)\n",
    "y_train_pred[:10]"
   ]
  },
  {
   "cell_type": "code",
   "execution_count": 29,
   "id": "8a8cf647-cc39-46ef-86f5-e5add90a5385",
   "metadata": {},
   "outputs": [
    {
     "data": {
      "text/plain": [
       "np.float64(-0.9107329463110052)"
      ]
     },
     "execution_count": 29,
     "metadata": {},
     "output_type": "execute_result"
    }
   ],
   "source": [
    "r2_score(y_train, y_train_pred)"
   ]
  },
  {
   "cell_type": "code",
   "execution_count": 40,
   "id": "b3612dd6-a7a8-4658-ac46-5129014dffc4",
   "metadata": {},
   "outputs": [],
   "source": [
    "# Because w0 is not considered"
   ]
  },
  {
   "cell_type": "markdown",
   "id": "0779b78b-033f-4466-9ffa-f735a271823d",
   "metadata": {},
   "source": [
    "# Incorporated w0"
   ]
  },
  {
   "cell_type": "code",
   "execution_count": 32,
   "id": "c51d3436-f8e4-4b1b-b75d-d261c81de7d2",
   "metadata": {},
   "outputs": [],
   "source": [
    "#x0 = pd.DataFrame([1]*len(X_train), columns = ['x0'])"
   ]
  },
  {
   "cell_type": "code",
   "execution_count": 33,
   "id": "ce3a1a29-df3f-441a-b42c-5a807f8af1e5",
   "metadata": {},
   "outputs": [],
   "source": [
    "# Incorporated w0\n",
    "#X_train_new = pd.concat([x0, X_train], axis=1)\n",
    "#X_train_new.head()"
   ]
  },
  {
   "cell_type": "code",
   "execution_count": 34,
   "id": "809305c7-1e54-4a3f-a93c-4bf7dc81a38f",
   "metadata": {},
   "outputs": [],
   "source": [
    "#W_best, error_list = gradient_descent(X_train_new, y_train)"
   ]
  },
  {
   "cell_type": "code",
   "execution_count": 35,
   "id": "a15a14dc-864f-4608-a1de-29811c3e5f76",
   "metadata": {},
   "outputs": [],
   "source": [
    "#W_best.shape"
   ]
  },
  {
   "cell_type": "code",
   "execution_count": 36,
   "id": "0d56ef31-1ae1-465a-910f-ac5ee8db1991",
   "metadata": {},
   "outputs": [],
   "source": [
    "#plt.plot(error_list)"
   ]
  },
  {
   "cell_type": "code",
   "execution_count": 37,
   "id": "0dfb68dc-572f-488f-a89c-cdc77de1c83d",
   "metadata": {},
   "outputs": [],
   "source": [
    "#error_list[-5:]"
   ]
  },
  {
   "cell_type": "code",
   "execution_count": 38,
   "id": "442d8658-79bf-4902-bd8d-1603b8f119f0",
   "metadata": {},
   "outputs": [],
   "source": [
    "#y_train_pred = predict(X_train_new, W_best)\n",
    "#y_train_pred[:10]"
   ]
  },
  {
   "cell_type": "code",
   "execution_count": 39,
   "id": "b2d94131-9be0-485e-9ebf-e1700dd8fd6e",
   "metadata": {},
   "outputs": [],
   "source": [
    "#r2_score(y_train, y_train_pred)"
   ]
  }
 ],
 "metadata": {
  "kernelspec": {
   "display_name": "Python 3 (ipykernel)",
   "language": "python",
   "name": "python3"
  },
  "language_info": {
   "codemirror_mode": {
    "name": "ipython",
    "version": 3
   },
   "file_extension": ".py",
   "mimetype": "text/x-python",
   "name": "python",
   "nbconvert_exporter": "python",
   "pygments_lexer": "ipython3",
   "version": "3.10.2"
  }
 },
 "nbformat": 4,
 "nbformat_minor": 5
}
